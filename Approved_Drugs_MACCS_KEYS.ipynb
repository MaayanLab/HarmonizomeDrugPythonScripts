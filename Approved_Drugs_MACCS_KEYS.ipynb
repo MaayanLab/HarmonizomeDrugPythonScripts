{
 "cells": [
  {
   "cell_type": "markdown",
   "metadata": {
    "collapsed": true
   },
   "source": [
    "# Approved_Drugs_MACCS_KEYS"
   ]
  },
  {
   "cell_type": "markdown",
   "metadata": {},
   "source": [
    "Author: Moshe Silverstein  \n",
    "Date: 05-2018\n",
    "\n",
    "Data Source Home:\n",
    "* Drugbank: https://www.drugbank.ca/\n",
    "* Drug Repurposing Hub: https://clue.io/repurposing\n",
    "* DrugCentral: http://drugcentral.org/\n",
    "\n",
    "Data Source Download:\n",
    "* Drugbank: https://www.drugbank.ca/releases/latest\n",
    "* Drug Repurposing Hub: https://clue.io/repurposing\n",
    "* DrugCentral: http://drugcentral.org/download"
   ]
  },
  {
   "cell_type": "markdown",
   "metadata": {},
   "source": [
    "# Import Libraries"
   ]
  },
  {
   "cell_type": "code",
   "execution_count": 1,
   "metadata": {},
   "outputs": [],
   "source": [
    "import sys, datetime, os\n",
    "import numpy as np\n",
    "import pandas as pd\n",
    "import importlib\n",
    "import utility_functions as uf\n",
    "import matplotlib.pyplot as plt\n",
    "%matplotlib inline\n",
    "from collections import Counter"
   ]
  },
  {
   "cell_type": "code",
   "execution_count": null,
   "metadata": {},
   "outputs": [],
   "source": [
    "from rdkit import Chem\n",
    "from rdkit.Chem import MACCSkeys\n",
    "from rdkit.Chem.Fingerprints import FingerprintMols\n",
    "from rdkit import DataStructs\n",
    "import requests"
   ]
  },
  {
   "cell_type": "code",
   "execution_count": null,
   "metadata": {},
   "outputs": [],
   "source": [
    "from clustergrammer_widget import *\n",
    "net = Network(clustergrammer_widget)"
   ]
  },
  {
   "cell_type": "code",
   "execution_count": null,
   "metadata": {},
   "outputs": [],
   "source": [
    "importlib.reload(uf)"
   ]
  },
  {
   "cell_type": "markdown",
   "metadata": {},
   "source": [
    "# Versions Of Modules In Use"
   ]
  },
  {
   "cell_type": "code",
   "execution_count": 5,
   "metadata": {},
   "outputs": [
    {
     "data": {
      "application/json": {
       "Software versions": [
        {
         "module": "Python",
         "version": "3.5.2 64bit [GCC 4.2.1 Compatible Apple LLVM 4.2 (clang-425.0.28)]"
        },
        {
         "module": "IPython",
         "version": "5.3.0"
        },
        {
         "module": "OS",
         "version": "Darwin 17.5.0 x86_64 i386 64bit"
        },
        {
         "module": "numpy",
         "version": "1.13.1"
        },
        {
         "module": "pandas",
         "version": "0.21.0"
        },
        {
         "module": "clustergrammer_widget",
         "version": "1.9.0"
        },
        {
         "module": "rdkit",
         "version": "2017.09.3"
        }
       ]
      },
      "text/html": [
       "<table><tr><th>Software</th><th>Version</th></tr><tr><td>Python</td><td>3.5.2 64bit [GCC 4.2.1 Compatible Apple LLVM 4.2 (clang-425.0.28)]</td></tr><tr><td>IPython</td><td>5.3.0</td></tr><tr><td>OS</td><td>Darwin 17.5.0 x86_64 i386 64bit</td></tr><tr><td>numpy</td><td>1.13.1</td></tr><tr><td>pandas</td><td>0.21.0</td></tr><tr><td>clustergrammer_widget</td><td>1.9.0</td></tr><tr><td>rdkit</td><td>2017.09.3</td></tr><tr><td colspan='2'>Wed May 02 11:34:13 2018 EDT</td></tr></table>"
      ],
      "text/latex": [
       "\\begin{tabular}{|l|l|}\\hline\n",
       "{\\bf Software} & {\\bf Version} \\\\ \\hline\\hline\n",
       "Python & 3.5.2 64bit [GCC 4.2.1 Compatible Apple LLVM 4.2 (clang-425.0.28)] \\\\ \\hline\n",
       "IPython & 5.3.0 \\\\ \\hline\n",
       "OS & Darwin 17.5.0 x86\\_64 i386 64bit \\\\ \\hline\n",
       "numpy & 1.13.1 \\\\ \\hline\n",
       "pandas & 0.21.0 \\\\ \\hline\n",
       "clustergrammer_widget & 1.9.0 \\\\ \\hline\n",
       "rdkit & 2017.09.3 \\\\ \\hline\n",
       "\\hline \\multicolumn{2}{|l|}{Wed May 02 11:34:13 2018 EDT} \\\\ \\hline\n",
       "\\end{tabular}\n"
      ],
      "text/plain": [
       "Software versions\n",
       "Python 3.5.2 64bit [GCC 4.2.1 Compatible Apple LLVM 4.2 (clang-425.0.28)]\n",
       "IPython 5.3.0\n",
       "OS Darwin 17.5.0 x86_64 i386 64bit\n",
       "numpy 1.13.1\n",
       "pandas 0.21.0\n",
       "clustergrammer_widget 1.9.0\n",
       "rdkit 2017.09.3\n",
       "Wed May 02 11:34:13 2018 EDT"
      ]
     },
     "execution_count": 5,
     "metadata": {},
     "output_type": "execute_result"
    }
   ],
   "source": [
    "%load_ext version_information\n",
    "%version_information numpy, pandas, clustergrammer_widget, rdkit"
   ]
  },
  {
   "cell_type": "markdown",
   "metadata": {},
   "source": [
    "# Path to Output Files"
   ]
  },
  {
   "cell_type": "code",
   "execution_count": 339,
   "metadata": {
    "collapsed": true
   },
   "outputs": [],
   "source": [
    "path = '/Users/moshesilverstein/Documents/Drug Harmonizome/Output/'"
   ]
  },
  {
   "cell_type": "markdown",
   "metadata": {},
   "source": [
    "# Load Data"
   ]
  },
  {
   "cell_type": "markdown",
   "metadata": {},
   "source": [
    "### Drugbank"
   ]
  },
  {
   "cell_type": "code",
   "execution_count": 7,
   "metadata": {},
   "outputs": [],
   "source": [
    "data = Chem.SDMolSupplier('Input/structures.sdf')"
   ]
  },
  {
   "cell_type": "markdown",
   "metadata": {},
   "source": [
    "### Get List of Molecules From Data"
   ]
  },
  {
   "cell_type": "code",
   "execution_count": 8,
   "metadata": {
    "collapsed": true
   },
   "outputs": [],
   "source": [
    "Molecules = [x for x in data]"
   ]
  },
  {
   "cell_type": "code",
   "execution_count": 9,
   "metadata": {},
   "outputs": [
    {
     "name": "stdout",
     "output_type": "stream",
     "text": [
      "2327\n"
     ]
    }
   ],
   "source": [
    "print(len(Molecules))"
   ]
  },
  {
   "cell_type": "markdown",
   "metadata": {},
   "source": [
    "### Get Molecule PubChem ID and MACCS Keys"
   ]
  },
  {
   "cell_type": "code",
   "execution_count": 10,
   "metadata": {},
   "outputs": [
    {
     "name": "stdout",
     "output_type": "stream",
     "text": [
      "Number of drugs with data not found: 2\n",
      "Number of drugs with SMILE data not found: 3\n",
      "Number of drugs with names that not matched to ids: 552\n"
     ]
    }
   ],
   "source": [
    "drugs = []\n",
    "fingerprints = []\n",
    "namesList = []\n",
    "synonyms = []\n",
    "FailedToGetSMILE = 0\n",
    "FailedToGetID = 0\n",
    "MoleIsNone = 0\n",
    "\n",
    "for i,mol in enumerate(Molecules):\n",
    "    \n",
    "    progressPercent = ((i+1)/len(Molecules))*100\n",
    "\n",
    "    sys.stdout.write(\"Progress: %d%%  %d Out of %d   \\r\" % (progressPercent, (i+1), len(Molecules)))\n",
    "    sys.stdout.flush()\n",
    "    \n",
    "    if mol is None:\n",
    "        MoleIsNone += 1\n",
    "        continue\n",
    "#     print(mol.GetProp('SMILES'))\n",
    "#     print(Chem.MolFromSmiles(mol.GetProp('SMILES')))\n",
    "#     print(list(MACCSkeys.GenMACCSKeys(Chem.MolFromSmiles(mol.GetProp('SMILES'))).GetOnBits()))\n",
    "    if Chem.MolFromSmiles(mol.GetProp('SMILES')):\n",
    "        \n",
    "        maccs = list(MACCSkeys.GenMACCSKeys(Chem.MolFromSmiles(mol.GetProp('SMILES'))).GetOnBits())\n",
    "        maccs = ['MACCS_'+str(x) for x in maccs]\n",
    "        \n",
    "        if 'SYNONYMS' in mol.GetPropsAsDict().keys():\n",
    "            name = mol.GetProp('GENERIC_NAME')\n",
    "            names = mol.GetProp('SYNONYMS').split(';')\n",
    "            names = [x.replace(' ', '') for x in names]\n",
    "            names.insert(0, name)\n",
    "            for name in names:\n",
    "                name = name.replace(' ', '%20')\n",
    "                url = 'https://pubchem.ncbi.nlm.nih.gov/rest/pug/compound/name/'+name+'/cids/JSON'\n",
    "                response = requests.post(url)\n",
    "                if 'PC_Compounds' in response.json().keys():\n",
    "                    ID = response.json()['PC_Compounds'][0]['id']['id']['cid']\n",
    "                    IDs = [ID]*len(maccs)\n",
    "                    drugs.append(IDs)\n",
    "                    fingerprints.append(maccs)\n",
    "                    namesList.append([names[0]]*len(mccs))\n",
    "                    synonyms.append([(':').join(names[1:])]*len(maccs))\n",
    "                elif 'IdentifierList' in response.json().keys():\n",
    "                    ID = response.json()['IdentifierList']['CID'][0]\n",
    "                    IDs = [ID]*len(maccs)\n",
    "                    drugs.append(IDs)\n",
    "                    fingerprints.append(maccs)\n",
    "                    namesList.append([names[0]]*len(maccs))\n",
    "                    synonyms.append([(':').join(names[1:])]*len(maccs))\n",
    "                elif name == names[-1]:\n",
    "                    FailedToGetID += 1\n",
    "            \n",
    "        else:\n",
    "            name = mol.GetProp('GENERIC_NAME')\n",
    "            name = name.replace(' ', '%20')\n",
    "            url = 'https://pubchem.ncbi.nlm.nih.gov/rest/pug/compound/name/'+name+'/cids/JSON'\n",
    "            response = requests.post(url)\n",
    "            if 'PC_Compounds' in response.json().keys():\n",
    "                ID = response.json()['PC_Compounds'][0]['id']['id']['cid']\n",
    "                IDs = [ID]*len(maccs)\n",
    "                drugs.append(IDs)\n",
    "                fingerprints.append(maccs)\n",
    "                namesList.append([names[0]]*len(mccs))\n",
    "                synonyms.append([(':').join(names[1:])]*len(maccs))\n",
    "            elif 'IdentifierList' in response.json().keys():\n",
    "                ID = response.json()['IdentifierList']['CID'][0]\n",
    "                IDs = [ID]*len(maccs)\n",
    "                drugs.append(IDs)\n",
    "                fingerprints.append(maccs)\n",
    "                namesList.append([names[0]]*len(maccs))\n",
    "                synonyms.append([(':').join(names[1:])]*len(maccs))\n",
    "            elif name == names[-1]:\n",
    "                FailedToGetID += 1\n",
    "    else:\n",
    "        FailedToGetSMILE += 1\n",
    "\n",
    "drugs = [item for sublist in drugs for item in sublist]\n",
    "fingerprints = [item for sublist in fingerprints for item in sublist]\n",
    "namesList = [item for sublist in namesList for item in sublist]\n",
    "synonyms = [item for sublist in synonyms for item in sublist]\n",
    "df = pd.DataFrame(columns=['Drug ID', 'Drug Name', 'Drug Synonyms', 'Fingerprint'])\n",
    "df['Drug ID'] = drugs\n",
    "df['Drug Name'] = namesList\n",
    "df['Drug Synonyms'] = synonyms\n",
    "df['Fingerprint'] = fingerprints\n",
    "\n",
    "\n",
    "print('Number of drugs with data not found: %r' % MoleIsNone)\n",
    "print('Number of drugs with SMILE data not found: %r' % FailedToGetSMILE)\n",
    "print('Number of drugs with names that not matched to ids: %r' % FailedToGetID)"
   ]
  },
  {
   "cell_type": "code",
   "execution_count": 11,
   "metadata": {
    "collapsed": true
   },
   "outputs": [],
   "source": [
    "df = df.drop_duplicates(keep='first')"
   ]
  },
  {
   "cell_type": "code",
   "execution_count": 12,
   "metadata": {},
   "outputs": [
    {
     "data": {
      "text/html": [
       "<div>\n",
       "<style scoped>\n",
       "    .dataframe tbody tr th:only-of-type {\n",
       "        vertical-align: middle;\n",
       "    }\n",
       "\n",
       "    .dataframe tbody tr th {\n",
       "        vertical-align: top;\n",
       "    }\n",
       "\n",
       "    .dataframe thead th {\n",
       "        text-align: right;\n",
       "    }\n",
       "</style>\n",
       "<table border=\"1\" class=\"dataframe\">\n",
       "  <thead>\n",
       "    <tr style=\"text-align: right;\">\n",
       "      <th></th>\n",
       "      <th>Drug ID</th>\n",
       "      <th>Drug Name</th>\n",
       "      <th>Drug Synonyms</th>\n",
       "      <th>Fingerprint</th>\n",
       "    </tr>\n",
       "  </thead>\n",
       "  <tbody>\n",
       "    <tr>\n",
       "      <th>0</th>\n",
       "      <td>16129704</td>\n",
       "      <td>Bivalirudin</td>\n",
       "      <td>Bivalirudina:Bivalirudinum:Hirulog</td>\n",
       "      <td>MACCS_25</td>\n",
       "    </tr>\n",
       "    <tr>\n",
       "      <th>1</th>\n",
       "      <td>16129704</td>\n",
       "      <td>Bivalirudin</td>\n",
       "      <td>Bivalirudina:Bivalirudinum:Hirulog</td>\n",
       "      <td>MACCS_43</td>\n",
       "    </tr>\n",
       "    <tr>\n",
       "      <th>2</th>\n",
       "      <td>16129704</td>\n",
       "      <td>Bivalirudin</td>\n",
       "      <td>Bivalirudina:Bivalirudinum:Hirulog</td>\n",
       "      <td>MACCS_53</td>\n",
       "    </tr>\n",
       "    <tr>\n",
       "      <th>3</th>\n",
       "      <td>16129704</td>\n",
       "      <td>Bivalirudin</td>\n",
       "      <td>Bivalirudina:Bivalirudinum:Hirulog</td>\n",
       "      <td>MACCS_54</td>\n",
       "    </tr>\n",
       "    <tr>\n",
       "      <th>4</th>\n",
       "      <td>16129704</td>\n",
       "      <td>Bivalirudin</td>\n",
       "      <td>Bivalirudina:Bivalirudinum:Hirulog</td>\n",
       "      <td>MACCS_74</td>\n",
       "    </tr>\n",
       "  </tbody>\n",
       "</table>\n",
       "</div>"
      ],
      "text/plain": [
       "    Drug ID    Drug Name                       Drug Synonyms Fingerprint\n",
       "0  16129704  Bivalirudin  Bivalirudina:Bivalirudinum:Hirulog    MACCS_25\n",
       "1  16129704  Bivalirudin  Bivalirudina:Bivalirudinum:Hirulog    MACCS_43\n",
       "2  16129704  Bivalirudin  Bivalirudina:Bivalirudinum:Hirulog    MACCS_53\n",
       "3  16129704  Bivalirudin  Bivalirudina:Bivalirudinum:Hirulog    MACCS_54\n",
       "4  16129704  Bivalirudin  Bivalirudina:Bivalirudinum:Hirulog    MACCS_74"
      ]
     },
     "execution_count": 12,
     "metadata": {},
     "output_type": "execute_result"
    }
   ],
   "source": [
    "df.head()"
   ]
  },
  {
   "cell_type": "code",
   "execution_count": 13,
   "metadata": {},
   "outputs": [
    {
     "data": {
      "text/plain": [
       "(104635, 4)"
      ]
     },
     "execution_count": 13,
     "metadata": {},
     "output_type": "execute_result"
    }
   ],
   "source": [
    "df.shape"
   ]
  },
  {
   "cell_type": "code",
   "execution_count": 14,
   "metadata": {
    "collapsed": true
   },
   "outputs": [],
   "source": [
    "drugbank_df = df.copy()"
   ]
  },
  {
   "cell_type": "code",
   "execution_count": 55,
   "metadata": {
    "collapsed": true
   },
   "outputs": [],
   "source": [
    "lst = []\n",
    "\n",
    "for index in drugbank_df.index:\n",
    "    lst.append(drugbank_df.loc[index, 'Drug Name'].upper())\n",
    "    \n",
    "drugbank_df['Drug Name'] = lst"
   ]
  },
  {
   "cell_type": "code",
   "execution_count": 57,
   "metadata": {
    "collapsed": true
   },
   "outputs": [],
   "source": [
    "lst = []\n",
    "\n",
    "for index in drugbank_df.index:\n",
    "    lst.append(drugbank_df.loc[index, 'Drug Synonyms'].upper())\n",
    "    \n",
    "drugbank_df['Drug Synonyms'] = lst"
   ]
  },
  {
   "cell_type": "code",
   "execution_count": 58,
   "metadata": {},
   "outputs": [
    {
     "data": {
      "text/html": [
       "<div>\n",
       "<style scoped>\n",
       "    .dataframe tbody tr th:only-of-type {\n",
       "        vertical-align: middle;\n",
       "    }\n",
       "\n",
       "    .dataframe tbody tr th {\n",
       "        vertical-align: top;\n",
       "    }\n",
       "\n",
       "    .dataframe thead th {\n",
       "        text-align: right;\n",
       "    }\n",
       "</style>\n",
       "<table border=\"1\" class=\"dataframe\">\n",
       "  <thead>\n",
       "    <tr style=\"text-align: right;\">\n",
       "      <th></th>\n",
       "      <th>Drug ID</th>\n",
       "      <th>Drug Name</th>\n",
       "      <th>Drug Synonyms</th>\n",
       "      <th>Fingerprint</th>\n",
       "    </tr>\n",
       "  </thead>\n",
       "  <tbody>\n",
       "    <tr>\n",
       "      <th>0</th>\n",
       "      <td>16129704</td>\n",
       "      <td>BIVALIRUDIN</td>\n",
       "      <td>BIVALIRUDINA:BIVALIRUDINUM:HIRULOG</td>\n",
       "      <td>MACCS_25</td>\n",
       "    </tr>\n",
       "    <tr>\n",
       "      <th>1</th>\n",
       "      <td>16129704</td>\n",
       "      <td>BIVALIRUDIN</td>\n",
       "      <td>BIVALIRUDINA:BIVALIRUDINUM:HIRULOG</td>\n",
       "      <td>MACCS_43</td>\n",
       "    </tr>\n",
       "    <tr>\n",
       "      <th>2</th>\n",
       "      <td>16129704</td>\n",
       "      <td>BIVALIRUDIN</td>\n",
       "      <td>BIVALIRUDINA:BIVALIRUDINUM:HIRULOG</td>\n",
       "      <td>MACCS_53</td>\n",
       "    </tr>\n",
       "    <tr>\n",
       "      <th>3</th>\n",
       "      <td>16129704</td>\n",
       "      <td>BIVALIRUDIN</td>\n",
       "      <td>BIVALIRUDINA:BIVALIRUDINUM:HIRULOG</td>\n",
       "      <td>MACCS_54</td>\n",
       "    </tr>\n",
       "    <tr>\n",
       "      <th>4</th>\n",
       "      <td>16129704</td>\n",
       "      <td>BIVALIRUDIN</td>\n",
       "      <td>BIVALIRUDINA:BIVALIRUDINUM:HIRULOG</td>\n",
       "      <td>MACCS_74</td>\n",
       "    </tr>\n",
       "  </tbody>\n",
       "</table>\n",
       "</div>"
      ],
      "text/plain": [
       "    Drug ID    Drug Name                       Drug Synonyms Fingerprint\n",
       "0  16129704  BIVALIRUDIN  BIVALIRUDINA:BIVALIRUDINUM:HIRULOG    MACCS_25\n",
       "1  16129704  BIVALIRUDIN  BIVALIRUDINA:BIVALIRUDINUM:HIRULOG    MACCS_43\n",
       "2  16129704  BIVALIRUDIN  BIVALIRUDINA:BIVALIRUDINUM:HIRULOG    MACCS_53\n",
       "3  16129704  BIVALIRUDIN  BIVALIRUDINA:BIVALIRUDINUM:HIRULOG    MACCS_54\n",
       "4  16129704  BIVALIRUDIN  BIVALIRUDINA:BIVALIRUDINUM:HIRULOG    MACCS_74"
      ]
     },
     "execution_count": 58,
     "metadata": {},
     "output_type": "execute_result"
    }
   ],
   "source": [
    "drugbank_df.head()"
   ]
  },
  {
   "cell_type": "code",
   "execution_count": 15,
   "metadata": {},
   "outputs": [
    {
     "name": "stdout",
     "output_type": "stream",
     "text": [
      "1673\n"
     ]
    }
   ],
   "source": [
    "print(len(drugbank_df['Drug Name'].unique()))"
   ]
  },
  {
   "cell_type": "markdown",
   "metadata": {},
   "source": [
    "### DrugCentral"
   ]
  },
  {
   "cell_type": "code",
   "execution_count": 207,
   "metadata": {
    "collapsed": true
   },
   "outputs": [],
   "source": [
    "data = pd.read_csv('Input/dc_structures.csv')"
   ]
  },
  {
   "cell_type": "code",
   "execution_count": 208,
   "metadata": {},
   "outputs": [
    {
     "data": {
      "text/html": [
       "<div>\n",
       "<style scoped>\n",
       "    .dataframe tbody tr th:only-of-type {\n",
       "        vertical-align: middle;\n",
       "    }\n",
       "\n",
       "    .dataframe tbody tr th {\n",
       "        vertical-align: top;\n",
       "    }\n",
       "\n",
       "    .dataframe thead th {\n",
       "        text-align: right;\n",
       "    }\n",
       "</style>\n",
       "<table border=\"1\" class=\"dataframe\">\n",
       "  <thead>\n",
       "    <tr style=\"text-align: right;\">\n",
       "      <th></th>\n",
       "      <th>cd_id</th>\n",
       "      <th>cd_formula</th>\n",
       "      <th>cd_molweight</th>\n",
       "      <th>id</th>\n",
       "      <th>clogp</th>\n",
       "      <th>alogs</th>\n",
       "      <th>cas_reg_no</th>\n",
       "      <th>tpsa</th>\n",
       "      <th>rng_aliph</th>\n",
       "      <th>rng_arom</th>\n",
       "      <th>...</th>\n",
       "      <th>zwitterion_8</th>\n",
       "      <th>molimg</th>\n",
       "      <th>o_n</th>\n",
       "      <th>oh_nh</th>\n",
       "      <th>inchi</th>\n",
       "      <th>nostereo_inchi</th>\n",
       "      <th>smiles</th>\n",
       "      <th>rgb</th>\n",
       "      <th>fda_labels</th>\n",
       "      <th>inchikey</th>\n",
       "    </tr>\n",
       "  </thead>\n",
       "  <tbody>\n",
       "    <tr>\n",
       "      <th>0</th>\n",
       "      <td>5022</td>\n",
       "      <td>C11H14N4O4</td>\n",
       "      <td>266.2533</td>\n",
       "      <td>5229</td>\n",
       "      <td>-2.467</td>\n",
       "      <td>-1.78</td>\n",
       "      <td>209799-67-7</td>\n",
       "      <td>129.97</td>\n",
       "      <td>1.0</td>\n",
       "      <td>2.0</td>\n",
       "      <td>...</td>\n",
       "      <td>0.0</td>\n",
       "      <td>\\x89504e470d0a1a0a0000000d49484452000003200000...</td>\n",
       "      <td>8.0</td>\n",
       "      <td>6.0</td>\n",
       "      <td>InChI=1S/C11H14N4O4/c16-2-5-9(17)10(18)7(15-5)...</td>\n",
       "      <td>InChI=1S/C11H14N4O4/c16-2-5-9(17)10(18)7(15-5)...</td>\n",
       "      <td>OC[C@H]1N[C@H]([C@H](O)[C@@H]1O)C1=CNC2=C1NC=N...</td>\n",
       "      <td>15.0</td>\n",
       "      <td>NaN</td>\n",
       "      <td>IWKXDMQDITUYRK-KUBHLMPHSA-N</td>\n",
       "    </tr>\n",
       "    <tr>\n",
       "      <th>1</th>\n",
       "      <td>5025</td>\n",
       "      <td>C35H30N4O4</td>\n",
       "      <td>570.6371</td>\n",
       "      <td>5231</td>\n",
       "      <td>5.491</td>\n",
       "      <td>-4.56</td>\n",
       "      <td>120685-11-2</td>\n",
       "      <td>77.73</td>\n",
       "      <td>3.0</td>\n",
       "      <td>6.0</td>\n",
       "      <td>...</td>\n",
       "      <td>0.0</td>\n",
       "      <td>\\x89504e470d0a1a0a0000000d49484452000003200000...</td>\n",
       "      <td>8.0</td>\n",
       "      <td>1.0</td>\n",
       "      <td>InChI=1S/C35H30N4O4/c1-35-32(42-3)25(37(2)34(4...</td>\n",
       "      <td>InChI=1S/C35H30N4O4/c1-35-32(42-3)25(37(2)34(4...</td>\n",
       "      <td>CO[C@@H]1[C@@H](C[C@H]2O[C@]1(C)N1C3=CC=CC=C3C...</td>\n",
       "      <td>45.0</td>\n",
       "      <td>1.0</td>\n",
       "      <td>BMGQWWVMWDBQGC-IIFHNQTCSA-N</td>\n",
       "    </tr>\n",
       "    <tr>\n",
       "      <th>2</th>\n",
       "      <td>4993</td>\n",
       "      <td>C16H17N7O2S</td>\n",
       "      <td>371.4170</td>\n",
       "      <td>5202</td>\n",
       "      <td>0.410</td>\n",
       "      <td>-3.02</td>\n",
       "      <td>1187594-09-7</td>\n",
       "      <td>120.56</td>\n",
       "      <td>1.0</td>\n",
       "      <td>3.0</td>\n",
       "      <td>...</td>\n",
       "      <td>0.0</td>\n",
       "      <td>\\x89504e470d0a1a0a0000000d49484452000003200000...</td>\n",
       "      <td>9.0</td>\n",
       "      <td>1.0</td>\n",
       "      <td>InChI=1S/C16H17N7O2S/c1-2-26(24,25)22-9-16(10-...</td>\n",
       "      <td>InChI=1S/C16H17N7O2S/c1-2-26(24,25)22-9-16(10-...</td>\n",
       "      <td>CCS(=O)(=O)N1CC(CC#N)(C1)N1C=C(C=N1)C1=NC=NC2=...</td>\n",
       "      <td>23.0</td>\n",
       "      <td>NaN</td>\n",
       "      <td>XUZMWHLSFXCVMG-UHFFFAOYSA-N</td>\n",
       "    </tr>\n",
       "    <tr>\n",
       "      <th>3</th>\n",
       "      <td>4994</td>\n",
       "      <td>C19H18FN3O</td>\n",
       "      <td>323.3641</td>\n",
       "      <td>5203</td>\n",
       "      <td>3.006</td>\n",
       "      <td>-4.45</td>\n",
       "      <td>283173-50-2</td>\n",
       "      <td>56.92</td>\n",
       "      <td>1.0</td>\n",
       "      <td>3.0</td>\n",
       "      <td>...</td>\n",
       "      <td>0.0</td>\n",
       "      <td>\\x89504e470d0a1a0a0000000d49484452000003200000...</td>\n",
       "      <td>4.0</td>\n",
       "      <td>3.0</td>\n",
       "      <td>InChI=1S/C19H18FN3O/c1-21-10-11-2-4-12(5-3-11)...</td>\n",
       "      <td>InChI=1S/C19H18FN3O/c1-21-10-11-2-4-12(5-3-11)...</td>\n",
       "      <td>CNCC1=CC=C(C=C1)C1=C2CCNC(=O)C3=CC(F)=CC(N1)=C23</td>\n",
       "      <td>22.0</td>\n",
       "      <td>1.0</td>\n",
       "      <td>HMABYWSNWIZPAG-UHFFFAOYSA-N</td>\n",
       "    </tr>\n",
       "    <tr>\n",
       "      <th>4</th>\n",
       "      <td>595</td>\n",
       "      <td>C13H14N2O</td>\n",
       "      <td>214.2631</td>\n",
       "      <td>2151</td>\n",
       "      <td>1.920</td>\n",
       "      <td>-2.36</td>\n",
       "      <td>553-69-5</td>\n",
       "      <td>45.15</td>\n",
       "      <td>0.0</td>\n",
       "      <td>2.0</td>\n",
       "      <td>...</td>\n",
       "      <td>0.0</td>\n",
       "      <td>\\x89504e470d0a1a0a0000000d49484452000003200000...</td>\n",
       "      <td>3.0</td>\n",
       "      <td>2.0</td>\n",
       "      <td>InChI=1S/C13H14N2O/c16-12(11-6-2-1-3-7-11)10-1...</td>\n",
       "      <td>InChI=1S/C13H14N2O/c16-12(11-6-2-1-3-7-11)10-1...</td>\n",
       "      <td>OC(CNC1=CC=CC=N1)C1=CC=CC=C1</td>\n",
       "      <td>12.0</td>\n",
       "      <td>NaN</td>\n",
       "      <td>ZEAJXCPGHPJVNP-UHFFFAOYSA-N</td>\n",
       "    </tr>\n",
       "  </tbody>\n",
       "</table>\n",
       "<p>5 rows × 57 columns</p>\n",
       "</div>"
      ],
      "text/plain": [
       "   cd_id   cd_formula  cd_molweight    id  clogp  alogs    cas_reg_no    tpsa  \\\n",
       "0   5022   C11H14N4O4      266.2533  5229 -2.467  -1.78   209799-67-7  129.97   \n",
       "1   5025   C35H30N4O4      570.6371  5231  5.491  -4.56   120685-11-2   77.73   \n",
       "2   4993  C16H17N7O2S      371.4170  5202  0.410  -3.02  1187594-09-7  120.56   \n",
       "3   4994   C19H18FN3O      323.3641  5203  3.006  -4.45   283173-50-2   56.92   \n",
       "4    595    C13H14N2O      214.2631  2151  1.920  -2.36      553-69-5   45.15   \n",
       "\n",
       "   rng_aliph  rng_arom             ...               zwitterion_8  \\\n",
       "0        1.0       2.0             ...                        0.0   \n",
       "1        3.0       6.0             ...                        0.0   \n",
       "2        1.0       3.0             ...                        0.0   \n",
       "3        1.0       3.0             ...                        0.0   \n",
       "4        0.0       2.0             ...                        0.0   \n",
       "\n",
       "                                              molimg  o_n oh_nh  \\\n",
       "0  \\x89504e470d0a1a0a0000000d49484452000003200000...  8.0   6.0   \n",
       "1  \\x89504e470d0a1a0a0000000d49484452000003200000...  8.0   1.0   \n",
       "2  \\x89504e470d0a1a0a0000000d49484452000003200000...  9.0   1.0   \n",
       "3  \\x89504e470d0a1a0a0000000d49484452000003200000...  4.0   3.0   \n",
       "4  \\x89504e470d0a1a0a0000000d49484452000003200000...  3.0   2.0   \n",
       "\n",
       "                                               inchi  \\\n",
       "0  InChI=1S/C11H14N4O4/c16-2-5-9(17)10(18)7(15-5)...   \n",
       "1  InChI=1S/C35H30N4O4/c1-35-32(42-3)25(37(2)34(4...   \n",
       "2  InChI=1S/C16H17N7O2S/c1-2-26(24,25)22-9-16(10-...   \n",
       "3  InChI=1S/C19H18FN3O/c1-21-10-11-2-4-12(5-3-11)...   \n",
       "4  InChI=1S/C13H14N2O/c16-12(11-6-2-1-3-7-11)10-1...   \n",
       "\n",
       "                                      nostereo_inchi  \\\n",
       "0  InChI=1S/C11H14N4O4/c16-2-5-9(17)10(18)7(15-5)...   \n",
       "1  InChI=1S/C35H30N4O4/c1-35-32(42-3)25(37(2)34(4...   \n",
       "2  InChI=1S/C16H17N7O2S/c1-2-26(24,25)22-9-16(10-...   \n",
       "3  InChI=1S/C19H18FN3O/c1-21-10-11-2-4-12(5-3-11)...   \n",
       "4  InChI=1S/C13H14N2O/c16-12(11-6-2-1-3-7-11)10-1...   \n",
       "\n",
       "                                              smiles   rgb fda_labels  \\\n",
       "0  OC[C@H]1N[C@H]([C@H](O)[C@@H]1O)C1=CNC2=C1NC=N...  15.0        NaN   \n",
       "1  CO[C@@H]1[C@@H](C[C@H]2O[C@]1(C)N1C3=CC=CC=C3C...  45.0        1.0   \n",
       "2  CCS(=O)(=O)N1CC(CC#N)(C1)N1C=C(C=N1)C1=NC=NC2=...  23.0        NaN   \n",
       "3   CNCC1=CC=C(C=C1)C1=C2CCNC(=O)C3=CC(F)=CC(N1)=C23  22.0        1.0   \n",
       "4                       OC(CNC1=CC=CC=N1)C1=CC=CC=C1  12.0        NaN   \n",
       "\n",
       "                      inchikey  \n",
       "0  IWKXDMQDITUYRK-KUBHLMPHSA-N  \n",
       "1  BMGQWWVMWDBQGC-IIFHNQTCSA-N  \n",
       "2  XUZMWHLSFXCVMG-UHFFFAOYSA-N  \n",
       "3  HMABYWSNWIZPAG-UHFFFAOYSA-N  \n",
       "4  ZEAJXCPGHPJVNP-UHFFFAOYSA-N  \n",
       "\n",
       "[5 rows x 57 columns]"
      ]
     },
     "execution_count": 208,
     "metadata": {},
     "output_type": "execute_result"
    }
   ],
   "source": [
    "data.head()"
   ]
  },
  {
   "cell_type": "code",
   "execution_count": 209,
   "metadata": {},
   "outputs": [
    {
     "data": {
      "text/plain": [
       "(4509, 57)"
      ]
     },
     "execution_count": 209,
     "metadata": {},
     "output_type": "execute_result"
    }
   ],
   "source": [
    "data.shape"
   ]
  },
  {
   "cell_type": "markdown",
   "metadata": {},
   "source": [
    "### Get Approval Data"
   ]
  },
  {
   "cell_type": "code",
   "execution_count": 211,
   "metadata": {
    "collapsed": true
   },
   "outputs": [],
   "source": [
    "approval_df = pd.read_csv('Input/dc_approval.csv')"
   ]
  },
  {
   "cell_type": "code",
   "execution_count": 212,
   "metadata": {},
   "outputs": [
    {
     "data": {
      "text/html": [
       "<div>\n",
       "<style scoped>\n",
       "    .dataframe tbody tr th:only-of-type {\n",
       "        vertical-align: middle;\n",
       "    }\n",
       "\n",
       "    .dataframe tbody tr th {\n",
       "        vertical-align: top;\n",
       "    }\n",
       "\n",
       "    .dataframe thead th {\n",
       "        text-align: right;\n",
       "    }\n",
       "</style>\n",
       "<table border=\"1\" class=\"dataframe\">\n",
       "  <thead>\n",
       "    <tr style=\"text-align: right;\">\n",
       "      <th></th>\n",
       "      <th>id</th>\n",
       "      <th>struct_id</th>\n",
       "      <th>approval</th>\n",
       "      <th>type</th>\n",
       "      <th>applicant</th>\n",
       "      <th>orphan</th>\n",
       "    </tr>\n",
       "  </thead>\n",
       "  <tbody>\n",
       "    <tr>\n",
       "      <th>0</th>\n",
       "      <td>3578</td>\n",
       "      <td>5204</td>\n",
       "      <td>2009-06-30</td>\n",
       "      <td>FDA</td>\n",
       "      <td>AMAG PHARMS INC</td>\n",
       "      <td>NaN</td>\n",
       "    </tr>\n",
       "    <tr>\n",
       "      <th>1</th>\n",
       "      <td>3579</td>\n",
       "      <td>5200</td>\n",
       "      <td>NaN</td>\n",
       "      <td>FDA</td>\n",
       "      <td>NaN</td>\n",
       "      <td>NaN</td>\n",
       "    </tr>\n",
       "    <tr>\n",
       "      <th>2</th>\n",
       "      <td>3580</td>\n",
       "      <td>5198</td>\n",
       "      <td>NaN</td>\n",
       "      <td>FDA</td>\n",
       "      <td>NaN</td>\n",
       "      <td>NaN</td>\n",
       "    </tr>\n",
       "    <tr>\n",
       "      <th>3</th>\n",
       "      <td>3581</td>\n",
       "      <td>5229</td>\n",
       "      <td>2017-03-30</td>\n",
       "      <td>PMDA</td>\n",
       "      <td>Mundi Pharma</td>\n",
       "      <td>NaN</td>\n",
       "    </tr>\n",
       "    <tr>\n",
       "      <th>4</th>\n",
       "      <td>3582</td>\n",
       "      <td>5231</td>\n",
       "      <td>2017-04-28</td>\n",
       "      <td>FDA</td>\n",
       "      <td>NOVARTIS PHARMS CORP</td>\n",
       "      <td>NaN</td>\n",
       "    </tr>\n",
       "  </tbody>\n",
       "</table>\n",
       "</div>"
      ],
      "text/plain": [
       "     id  struct_id    approval  type             applicant orphan\n",
       "0  3578       5204  2009-06-30   FDA       AMAG PHARMS INC    NaN\n",
       "1  3579       5200         NaN   FDA                   NaN    NaN\n",
       "2  3580       5198         NaN   FDA                   NaN    NaN\n",
       "3  3581       5229  2017-03-30  PMDA          Mundi Pharma    NaN\n",
       "4  3582       5231  2017-04-28   FDA  NOVARTIS PHARMS CORP    NaN"
      ]
     },
     "execution_count": 212,
     "metadata": {},
     "output_type": "execute_result"
    }
   ],
   "source": [
    "approval_df.head()"
   ]
  },
  {
   "cell_type": "code",
   "execution_count": 221,
   "metadata": {},
   "outputs": [
    {
     "data": {
      "text/plain": [
       "(2594, 6)"
      ]
     },
     "execution_count": 221,
     "metadata": {},
     "output_type": "execute_result"
    }
   ],
   "source": [
    "approval_df.shape"
   ]
  },
  {
   "cell_type": "code",
   "execution_count": 222,
   "metadata": {},
   "outputs": [
    {
     "name": "stdout",
     "output_type": "stream",
     "text": [
      "4509\n",
      "2390\n"
     ]
    }
   ],
   "source": [
    "print(len(data['id'].unique()))\n",
    "print(len(set(data['id'].values.tolist()).intersection(set(approval_df['struct_id'].values.tolist()))))"
   ]
  },
  {
   "cell_type": "code",
   "execution_count": 234,
   "metadata": {},
   "outputs": [],
   "source": [
    "approval_df = approval_df[approval_df['type'] == 'FDA']"
   ]
  },
  {
   "cell_type": "code",
   "execution_count": 235,
   "metadata": {},
   "outputs": [
    {
     "data": {
      "text/plain": [
       "(2072, 6)"
      ]
     },
     "execution_count": 235,
     "metadata": {},
     "output_type": "execute_result"
    }
   ],
   "source": [
    "approval_df.shape"
   ]
  },
  {
   "cell_type": "code",
   "execution_count": 236,
   "metadata": {
    "collapsed": true
   },
   "outputs": [],
   "source": [
    "data.set_index('id', inplace=True)"
   ]
  },
  {
   "cell_type": "code",
   "execution_count": 237,
   "metadata": {
    "collapsed": true
   },
   "outputs": [],
   "source": [
    "data = data.loc[approval_df['struct_id']]"
   ]
  },
  {
   "cell_type": "code",
   "execution_count": 238,
   "metadata": {},
   "outputs": [
    {
     "data": {
      "text/plain": [
       "(2072, 56)"
      ]
     },
     "execution_count": 238,
     "metadata": {},
     "output_type": "execute_result"
    }
   ],
   "source": [
    "data.shape"
   ]
  },
  {
   "cell_type": "code",
   "execution_count": 241,
   "metadata": {},
   "outputs": [],
   "source": [
    "data.reset_index(inplace=True)"
   ]
  },
  {
   "cell_type": "code",
   "execution_count": 242,
   "metadata": {},
   "outputs": [
    {
     "data": {
      "text/html": [
       "<div>\n",
       "<style scoped>\n",
       "    .dataframe tbody tr th:only-of-type {\n",
       "        vertical-align: middle;\n",
       "    }\n",
       "\n",
       "    .dataframe tbody tr th {\n",
       "        vertical-align: top;\n",
       "    }\n",
       "\n",
       "    .dataframe thead th {\n",
       "        text-align: right;\n",
       "    }\n",
       "</style>\n",
       "<table border=\"1\" class=\"dataframe\">\n",
       "  <thead>\n",
       "    <tr style=\"text-align: right;\">\n",
       "      <th></th>\n",
       "      <th>id</th>\n",
       "      <th>cd_id</th>\n",
       "      <th>cd_formula</th>\n",
       "      <th>cd_molweight</th>\n",
       "      <th>clogp</th>\n",
       "      <th>alogs</th>\n",
       "      <th>cas_reg_no</th>\n",
       "      <th>tpsa</th>\n",
       "      <th>rng_aliph</th>\n",
       "      <th>rng_arom</th>\n",
       "      <th>...</th>\n",
       "      <th>zwitterion_8</th>\n",
       "      <th>molimg</th>\n",
       "      <th>o_n</th>\n",
       "      <th>oh_nh</th>\n",
       "      <th>inchi</th>\n",
       "      <th>nostereo_inchi</th>\n",
       "      <th>smiles</th>\n",
       "      <th>rgb</th>\n",
       "      <th>fda_labels</th>\n",
       "      <th>inchikey</th>\n",
       "    </tr>\n",
       "  </thead>\n",
       "  <tbody>\n",
       "    <tr>\n",
       "      <th>0</th>\n",
       "      <td>5204</td>\n",
       "      <td>4995</td>\n",
       "      <td>NaN</td>\n",
       "      <td>NaN</td>\n",
       "      <td>NaN</td>\n",
       "      <td>NaN</td>\n",
       "      <td>722492-56-0</td>\n",
       "      <td>0.00</td>\n",
       "      <td>0.0</td>\n",
       "      <td>0.0</td>\n",
       "      <td>...</td>\n",
       "      <td>NaN</td>\n",
       "      <td>NaN</td>\n",
       "      <td>NaN</td>\n",
       "      <td>NaN</td>\n",
       "      <td>NaN</td>\n",
       "      <td>NaN</td>\n",
       "      <td>NaN</td>\n",
       "      <td>NaN</td>\n",
       "      <td>1.0</td>\n",
       "      <td>NaN</td>\n",
       "    </tr>\n",
       "    <tr>\n",
       "      <th>1</th>\n",
       "      <td>5200</td>\n",
       "      <td>4991</td>\n",
       "      <td>C4H4Na2O4</td>\n",
       "      <td>162.0517</td>\n",
       "      <td>NaN</td>\n",
       "      <td>NaN</td>\n",
       "      <td>150-90-3</td>\n",
       "      <td>80.26</td>\n",
       "      <td>0.0</td>\n",
       "      <td>0.0</td>\n",
       "      <td>...</td>\n",
       "      <td>NaN</td>\n",
       "      <td>NaN</td>\n",
       "      <td>NaN</td>\n",
       "      <td>NaN</td>\n",
       "      <td>NaN</td>\n",
       "      <td>NaN</td>\n",
       "      <td>NaN</td>\n",
       "      <td>NaN</td>\n",
       "      <td>NaN</td>\n",
       "      <td>NaN</td>\n",
       "    </tr>\n",
       "    <tr>\n",
       "      <th>2</th>\n",
       "      <td>5198</td>\n",
       "      <td>4989</td>\n",
       "      <td>C130H220N44O41</td>\n",
       "      <td>3055.4080</td>\n",
       "      <td>NaN</td>\n",
       "      <td>NaN</td>\n",
       "      <td>17034-35-4</td>\n",
       "      <td>1421.45</td>\n",
       "      <td>0.0</td>\n",
       "      <td>2.0</td>\n",
       "      <td>...</td>\n",
       "      <td>0.0</td>\n",
       "      <td>\\x89504e470d0a1a0a0000000d49484452000003200000...</td>\n",
       "      <td>85.0</td>\n",
       "      <td>52.0</td>\n",
       "      <td>InChI=1S/C130H220N44O41/c1-59(2)41-79(119(208)...</td>\n",
       "      <td>InChI=1S/C130H220N44O41/c1-59(2)41-79(119(208)...</td>\n",
       "      <td>CC(C)C[C@H](NC(=O)CNC(=O)[C@H](CCC(N)=O)NC(=O)...</td>\n",
       "      <td>77.0</td>\n",
       "      <td>NaN</td>\n",
       "      <td>JWQZOTGHUDZFMU-WIDFLDSMSA-N</td>\n",
       "    </tr>\n",
       "    <tr>\n",
       "      <th>3</th>\n",
       "      <td>5231</td>\n",
       "      <td>5025</td>\n",
       "      <td>C35H30N4O4</td>\n",
       "      <td>570.6371</td>\n",
       "      <td>5.491</td>\n",
       "      <td>-4.56</td>\n",
       "      <td>120685-11-2</td>\n",
       "      <td>77.73</td>\n",
       "      <td>3.0</td>\n",
       "      <td>6.0</td>\n",
       "      <td>...</td>\n",
       "      <td>0.0</td>\n",
       "      <td>\\x89504e470d0a1a0a0000000d49484452000003200000...</td>\n",
       "      <td>8.0</td>\n",
       "      <td>1.0</td>\n",
       "      <td>InChI=1S/C35H30N4O4/c1-35-32(42-3)25(37(2)34(4...</td>\n",
       "      <td>InChI=1S/C35H30N4O4/c1-35-32(42-3)25(37(2)34(4...</td>\n",
       "      <td>CO[C@@H]1[C@@H](C[C@H]2O[C@]1(C)N1C3=CC=CC=C3C...</td>\n",
       "      <td>45.0</td>\n",
       "      <td>1.0</td>\n",
       "      <td>BMGQWWVMWDBQGC-IIFHNQTCSA-N</td>\n",
       "    </tr>\n",
       "    <tr>\n",
       "      <th>4</th>\n",
       "      <td>5230</td>\n",
       "      <td>5023</td>\n",
       "      <td>NaN</td>\n",
       "      <td>NaN</td>\n",
       "      <td>NaN</td>\n",
       "      <td>NaN</td>\n",
       "      <td>151662-36-1</td>\n",
       "      <td>0.00</td>\n",
       "      <td>0.0</td>\n",
       "      <td>0.0</td>\n",
       "      <td>...</td>\n",
       "      <td>NaN</td>\n",
       "      <td>NaN</td>\n",
       "      <td>NaN</td>\n",
       "      <td>NaN</td>\n",
       "      <td>NaN</td>\n",
       "      <td>NaN</td>\n",
       "      <td>NaN</td>\n",
       "      <td>NaN</td>\n",
       "      <td>1.0</td>\n",
       "      <td>NaN</td>\n",
       "    </tr>\n",
       "  </tbody>\n",
       "</table>\n",
       "<p>5 rows × 57 columns</p>\n",
       "</div>"
      ],
      "text/plain": [
       "     id  cd_id      cd_formula  cd_molweight  clogp  alogs   cas_reg_no  \\\n",
       "0  5204   4995             NaN           NaN    NaN    NaN  722492-56-0   \n",
       "1  5200   4991       C4H4Na2O4      162.0517    NaN    NaN     150-90-3   \n",
       "2  5198   4989  C130H220N44O41     3055.4080    NaN    NaN   17034-35-4   \n",
       "3  5231   5025      C35H30N4O4      570.6371  5.491  -4.56  120685-11-2   \n",
       "4  5230   5023             NaN           NaN    NaN    NaN  151662-36-1   \n",
       "\n",
       "      tpsa  rng_aliph  rng_arom             ...               zwitterion_8  \\\n",
       "0     0.00        0.0       0.0             ...                        NaN   \n",
       "1    80.26        0.0       0.0             ...                        NaN   \n",
       "2  1421.45        0.0       2.0             ...                        0.0   \n",
       "3    77.73        3.0       6.0             ...                        0.0   \n",
       "4     0.00        0.0       0.0             ...                        NaN   \n",
       "\n",
       "                                              molimg   o_n oh_nh  \\\n",
       "0                                                NaN   NaN   NaN   \n",
       "1                                                NaN   NaN   NaN   \n",
       "2  \\x89504e470d0a1a0a0000000d49484452000003200000...  85.0  52.0   \n",
       "3  \\x89504e470d0a1a0a0000000d49484452000003200000...   8.0   1.0   \n",
       "4                                                NaN   NaN   NaN   \n",
       "\n",
       "                                               inchi  \\\n",
       "0                                                NaN   \n",
       "1                                                NaN   \n",
       "2  InChI=1S/C130H220N44O41/c1-59(2)41-79(119(208)...   \n",
       "3  InChI=1S/C35H30N4O4/c1-35-32(42-3)25(37(2)34(4...   \n",
       "4                                                NaN   \n",
       "\n",
       "                                      nostereo_inchi  \\\n",
       "0                                                NaN   \n",
       "1                                                NaN   \n",
       "2  InChI=1S/C130H220N44O41/c1-59(2)41-79(119(208)...   \n",
       "3  InChI=1S/C35H30N4O4/c1-35-32(42-3)25(37(2)34(4...   \n",
       "4                                                NaN   \n",
       "\n",
       "                                              smiles   rgb fda_labels  \\\n",
       "0                                                NaN   NaN        1.0   \n",
       "1                                                NaN   NaN        NaN   \n",
       "2  CC(C)C[C@H](NC(=O)CNC(=O)[C@H](CCC(N)=O)NC(=O)...  77.0        NaN   \n",
       "3  CO[C@@H]1[C@@H](C[C@H]2O[C@]1(C)N1C3=CC=CC=C3C...  45.0        1.0   \n",
       "4                                                NaN   NaN        1.0   \n",
       "\n",
       "                      inchikey  \n",
       "0                          NaN  \n",
       "1                          NaN  \n",
       "2  JWQZOTGHUDZFMU-WIDFLDSMSA-N  \n",
       "3  BMGQWWVMWDBQGC-IIFHNQTCSA-N  \n",
       "4                          NaN  \n",
       "\n",
       "[5 rows x 57 columns]"
      ]
     },
     "execution_count": 242,
     "metadata": {},
     "output_type": "execute_result"
    }
   ],
   "source": [
    "data.head()"
   ]
  },
  {
   "cell_type": "code",
   "execution_count": 263,
   "metadata": {},
   "outputs": [],
   "source": [
    "name_synonyms = pd.read_csv('Input/dc_synonyms.csv')"
   ]
  },
  {
   "cell_type": "code",
   "execution_count": 265,
   "metadata": {},
   "outputs": [],
   "source": [
    "name_synonyms.set_index('id', inplace=True)"
   ]
  },
  {
   "cell_type": "code",
   "execution_count": 266,
   "metadata": {},
   "outputs": [
    {
     "data": {
      "text/html": [
       "<div>\n",
       "<style scoped>\n",
       "    .dataframe tbody tr th:only-of-type {\n",
       "        vertical-align: middle;\n",
       "    }\n",
       "\n",
       "    .dataframe tbody tr th {\n",
       "        vertical-align: top;\n",
       "    }\n",
       "\n",
       "    .dataframe thead th {\n",
       "        text-align: right;\n",
       "    }\n",
       "</style>\n",
       "<table border=\"1\" class=\"dataframe\">\n",
       "  <thead>\n",
       "    <tr style=\"text-align: right;\">\n",
       "      <th></th>\n",
       "      <th>syn_id</th>\n",
       "      <th>name</th>\n",
       "      <th>preferred_name</th>\n",
       "      <th>parent_id</th>\n",
       "      <th>lname</th>\n",
       "    </tr>\n",
       "    <tr>\n",
       "      <th>id</th>\n",
       "      <th></th>\n",
       "      <th></th>\n",
       "      <th></th>\n",
       "      <th></th>\n",
       "      <th></th>\n",
       "    </tr>\n",
       "  </thead>\n",
       "  <tbody>\n",
       "    <tr>\n",
       "      <th>5249.0</th>\n",
       "      <td>22365</td>\n",
       "      <td>DW-224a</td>\n",
       "      <td>NaN</td>\n",
       "      <td>NaN</td>\n",
       "      <td>dw-224a</td>\n",
       "    </tr>\n",
       "    <tr>\n",
       "      <th>667.0</th>\n",
       "      <td>22366</td>\n",
       "      <td>mavenclad</td>\n",
       "      <td>NaN</td>\n",
       "      <td>NaN</td>\n",
       "      <td>mavenclad</td>\n",
       "    </tr>\n",
       "    <tr>\n",
       "      <th>2210.0</th>\n",
       "      <td>22226</td>\n",
       "      <td>piroxicam olamine</td>\n",
       "      <td>NaN</td>\n",
       "      <td>NaN</td>\n",
       "      <td>piroxicam olamine</td>\n",
       "    </tr>\n",
       "    <tr>\n",
       "      <th>NaN</th>\n",
       "      <td>22227</td>\n",
       "      <td>Blood-coagulation factor VIII</td>\n",
       "      <td>1.0</td>\n",
       "      <td>221.0</td>\n",
       "      <td>blood-coagulation factor viii</td>\n",
       "    </tr>\n",
       "    <tr>\n",
       "      <th>224.0</th>\n",
       "      <td>22229</td>\n",
       "      <td>antazoline mesylate</td>\n",
       "      <td>NaN</td>\n",
       "      <td>NaN</td>\n",
       "      <td>antazoline mesylate</td>\n",
       "    </tr>\n",
       "  </tbody>\n",
       "</table>\n",
       "</div>"
      ],
      "text/plain": [
       "         syn_id                           name  preferred_name  parent_id  \\\n",
       "id                                                                          \n",
       " 5249.0   22365                        DW-224a             NaN        NaN   \n",
       " 667.0    22366                      mavenclad             NaN        NaN   \n",
       " 2210.0   22226              piroxicam olamine             NaN        NaN   \n",
       "NaN       22227  Blood-coagulation factor VIII             1.0      221.0   \n",
       " 224.0    22229            antazoline mesylate             NaN        NaN   \n",
       "\n",
       "                                 lname  \n",
       "id                                      \n",
       " 5249.0                        dw-224a  \n",
       " 667.0                       mavenclad  \n",
       " 2210.0              piroxicam olamine  \n",
       "NaN      blood-coagulation factor viii  \n",
       " 224.0             antazoline mesylate  "
      ]
     },
     "execution_count": 266,
     "metadata": {},
     "output_type": "execute_result"
    }
   ],
   "source": [
    "name_synonyms.head()"
   ]
  },
  {
   "cell_type": "code",
   "execution_count": 269,
   "metadata": {},
   "outputs": [
    {
     "data": {
      "text/plain": [
       "['abaloparatide', 'tymlos', 'BA058', 'BIM-44058']"
      ]
     },
     "execution_count": 269,
     "metadata": {},
     "output_type": "execute_result"
    }
   ],
   "source": [
    "name_synonyms.loc[5232.0, 'name'].values.tolist()"
   ]
  },
  {
   "cell_type": "markdown",
   "metadata": {},
   "source": [
    "### Get Molecule PubChem ID and MACCS Keys"
   ]
  },
  {
   "cell_type": "code",
   "execution_count": 279,
   "metadata": {},
   "outputs": [
    {
     "name": "stdout",
     "output_type": "stream",
     "text": [
      "Number of drugs with data not found: 0\n",
      "Number of drugs with SMILE data not found: 359\n",
      "Number of drugs with names that not matched to ids: 95\n"
     ]
    }
   ],
   "source": [
    "drugs = []\n",
    "fingerprints = []\n",
    "namesList = []\n",
    "synonyms = []\n",
    "FailedToGetSMILE = 0\n",
    "FailedToGetID = 0\n",
    "MoleIsNone = 0\n",
    "\n",
    "for i,index in enumerate(data.index):\n",
    "    \n",
    "    progressPercent = ((i+1)/len(data.index))*100\n",
    "\n",
    "    sys.stdout.write(\"Progress: %d%%  %d Out of %d   \\r\" % (progressPercent, (i+1), len(data.index)))\n",
    "    sys.stdout.flush()\n",
    "           \n",
    "    if type(data.loc[index, 'smiles']) != float:\n",
    "        maccs = list(MACCSkeys.GenMACCSKeys(Chem.MolFromSmiles(data.loc[index, 'smiles'])).GetOnBits())\n",
    "        maccs = ['MACCS_'+str(x) for x in maccs]\n",
    "        \n",
    "        if type(name_synonyms.loc[float(data.loc[index, 'id']), 'name']) == str:\n",
    "            names = name_synonyms.loc[float(data.loc[index, 'id']), 'name']\n",
    "        else:\n",
    "            names = name_synonyms.loc[float(data.loc[index, 'id']), 'name'].values.tolist()\n",
    "        \n",
    "        for name in names:\n",
    "            name = name.replace(' ', '%20')\n",
    "            url = 'https://pubchem.ncbi.nlm.nih.gov/rest/pug/compound/name/'+name+'/cids/JSON'\n",
    "            response = requests.post(url)\n",
    "            if 'PC_Compounds' in response.json().keys():\n",
    "                ID = response.json()['PC_Compounds'][0]['id']['id']['cid']\n",
    "                IDs = [ID]*len(maccs)\n",
    "                drugs.append(IDs)\n",
    "                fingerprints.append(maccs)\n",
    "                namesList.append([names[0]]*len(mccs))\n",
    "                synonyms.append([(':').join(names[1:])]*len(maccs))\n",
    "            elif 'IdentifierList' in response.json().keys():\n",
    "                ID = response.json()['IdentifierList']['CID'][0]\n",
    "                IDs = [ID]*len(maccs)\n",
    "                drugs.append(IDs)\n",
    "                fingerprints.append(maccs)\n",
    "                namesList.append([names[0]]*len(maccs))\n",
    "                synonyms.append([(':').join(names[1:])]*len(maccs))\n",
    "            elif name == names[-1]:\n",
    "                FailedToGetID += 1\n",
    "    else:\n",
    "        FailedToGetSMILE += 1\n",
    "\n",
    "\n",
    "\n",
    "drugs = [item for sublist in drugs for item in sublist]\n",
    "fingerprints = [item for sublist in fingerprints for item in sublist]\n",
    "namesList = [item for sublist in namesList for item in sublist]\n",
    "synonyms = [item for sublist in synonyms for item in sublist]\n",
    "df = pd.DataFrame(columns=['Drug ID', 'Drug Name', 'Drug Synonyms', 'Fingerprint'])\n",
    "df['Drug ID'] = drugs\n",
    "df['Drug Name'] = namesList\n",
    "df['Drug Synonyms'] = synonyms\n",
    "df['Fingerprint'] = fingerprints\n",
    "\n",
    "\n",
    "print('Number of drugs with data not found: %r' % MoleIsNone)\n",
    "print('Number of drugs with SMILE data not found: %r' % FailedToGetSMILE)\n",
    "print('Number of drugs with names that not matched to ids: %r' % FailedToGetID)"
   ]
  },
  {
   "cell_type": "code",
   "execution_count": 280,
   "metadata": {},
   "outputs": [
    {
     "data": {
      "text/plain": [
       "(388586, 4)"
      ]
     },
     "execution_count": 280,
     "metadata": {},
     "output_type": "execute_result"
    }
   ],
   "source": [
    "df.shape"
   ]
  },
  {
   "cell_type": "code",
   "execution_count": 281,
   "metadata": {
    "collapsed": true
   },
   "outputs": [],
   "source": [
    "drugcentral_df = df.copy()"
   ]
  },
  {
   "cell_type": "code",
   "execution_count": 282,
   "metadata": {
    "collapsed": true
   },
   "outputs": [],
   "source": [
    "lst = []\n",
    "\n",
    "for index in drugcentral_df.index:\n",
    "    lst.append(drugcentral_df.loc[index, 'Drug Name'].upper())\n",
    "    \n",
    "drugcentral_df['Drug Name'] = lst"
   ]
  },
  {
   "cell_type": "code",
   "execution_count": 283,
   "metadata": {},
   "outputs": [],
   "source": [
    "lst = []\n",
    "\n",
    "for index in drugcentral_df.index:\n",
    "    lst.append(drugcentral_df.loc[index, 'Drug Synonyms'].upper())\n",
    "    \n",
    "drugcentral_df['Drug Synonyms'] = lst"
   ]
  },
  {
   "cell_type": "code",
   "execution_count": 284,
   "metadata": {},
   "outputs": [
    {
     "data": {
      "text/html": [
       "<div>\n",
       "<style scoped>\n",
       "    .dataframe tbody tr th:only-of-type {\n",
       "        vertical-align: middle;\n",
       "    }\n",
       "\n",
       "    .dataframe tbody tr th {\n",
       "        vertical-align: top;\n",
       "    }\n",
       "\n",
       "    .dataframe thead th {\n",
       "        text-align: right;\n",
       "    }\n",
       "</style>\n",
       "<table border=\"1\" class=\"dataframe\">\n",
       "  <thead>\n",
       "    <tr style=\"text-align: right;\">\n",
       "      <th></th>\n",
       "      <th>Drug ID</th>\n",
       "      <th>Drug Name</th>\n",
       "      <th>Drug Synonyms</th>\n",
       "      <th>Fingerprint</th>\n",
       "    </tr>\n",
       "  </thead>\n",
       "  <tbody>\n",
       "    <tr>\n",
       "      <th>0</th>\n",
       "      <td>16129665</td>\n",
       "      <td>SECREFLO</td>\n",
       "      <td>SECRETIN PORCINE:SECRETIN SYNTHETIC PORCINE</td>\n",
       "      <td>MACCS_25</td>\n",
       "    </tr>\n",
       "    <tr>\n",
       "      <th>1</th>\n",
       "      <td>16129665</td>\n",
       "      <td>SECREFLO</td>\n",
       "      <td>SECRETIN PORCINE:SECRETIN SYNTHETIC PORCINE</td>\n",
       "      <td>MACCS_43</td>\n",
       "    </tr>\n",
       "    <tr>\n",
       "      <th>2</th>\n",
       "      <td>16129665</td>\n",
       "      <td>SECREFLO</td>\n",
       "      <td>SECRETIN PORCINE:SECRETIN SYNTHETIC PORCINE</td>\n",
       "      <td>MACCS_53</td>\n",
       "    </tr>\n",
       "    <tr>\n",
       "      <th>3</th>\n",
       "      <td>16129665</td>\n",
       "      <td>SECREFLO</td>\n",
       "      <td>SECRETIN PORCINE:SECRETIN SYNTHETIC PORCINE</td>\n",
       "      <td>MACCS_54</td>\n",
       "    </tr>\n",
       "    <tr>\n",
       "      <th>4</th>\n",
       "      <td>16129665</td>\n",
       "      <td>SECREFLO</td>\n",
       "      <td>SECRETIN PORCINE:SECRETIN SYNTHETIC PORCINE</td>\n",
       "      <td>MACCS_65</td>\n",
       "    </tr>\n",
       "  </tbody>\n",
       "</table>\n",
       "</div>"
      ],
      "text/plain": [
       "    Drug ID Drug Name                                Drug Synonyms Fingerprint\n",
       "0  16129665  SECREFLO  SECRETIN PORCINE:SECRETIN SYNTHETIC PORCINE    MACCS_25\n",
       "1  16129665  SECREFLO  SECRETIN PORCINE:SECRETIN SYNTHETIC PORCINE    MACCS_43\n",
       "2  16129665  SECREFLO  SECRETIN PORCINE:SECRETIN SYNTHETIC PORCINE    MACCS_53\n",
       "3  16129665  SECREFLO  SECRETIN PORCINE:SECRETIN SYNTHETIC PORCINE    MACCS_54\n",
       "4  16129665  SECREFLO  SECRETIN PORCINE:SECRETIN SYNTHETIC PORCINE    MACCS_65"
      ]
     },
     "execution_count": 284,
     "metadata": {},
     "output_type": "execute_result"
    }
   ],
   "source": [
    "drugcentral_df.head()"
   ]
  },
  {
   "cell_type": "code",
   "execution_count": 285,
   "metadata": {},
   "outputs": [
    {
     "name": "stdout",
     "output_type": "stream",
     "text": [
      "1688\n"
     ]
    }
   ],
   "source": [
    "print(len(drugcentral_df['Drug Name'].unique()))"
   ]
  },
  {
   "cell_type": "markdown",
   "metadata": {},
   "source": [
    "### Drug Repurposing Hub "
   ]
  },
  {
   "cell_type": "code",
   "execution_count": 25,
   "metadata": {},
   "outputs": [],
   "source": [
    "data = pd.read_csv('Input/repurposing_samples_20170327.txt', sep='\\t', skiprows=9, encoding = \"latin1\")"
   ]
  },
  {
   "cell_type": "code",
   "execution_count": 26,
   "metadata": {},
   "outputs": [
    {
     "data": {
      "text/html": [
       "<div>\n",
       "<style scoped>\n",
       "    .dataframe tbody tr th:only-of-type {\n",
       "        vertical-align: middle;\n",
       "    }\n",
       "\n",
       "    .dataframe tbody tr th {\n",
       "        vertical-align: top;\n",
       "    }\n",
       "\n",
       "    .dataframe thead th {\n",
       "        text-align: right;\n",
       "    }\n",
       "</style>\n",
       "<table border=\"1\" class=\"dataframe\">\n",
       "  <thead>\n",
       "    <tr style=\"text-align: right;\">\n",
       "      <th></th>\n",
       "      <th>broad_id</th>\n",
       "      <th>pert_iname</th>\n",
       "      <th>qc_incompatible</th>\n",
       "      <th>purity</th>\n",
       "      <th>vendor</th>\n",
       "      <th>catalog_no</th>\n",
       "      <th>vendor_name</th>\n",
       "      <th>expected_mass</th>\n",
       "      <th>smiles</th>\n",
       "      <th>InChIKey</th>\n",
       "      <th>pubchem_cid</th>\n",
       "    </tr>\n",
       "  </thead>\n",
       "  <tbody>\n",
       "    <tr>\n",
       "      <th>0</th>\n",
       "      <td>BRD-A37752546-001-01-9</td>\n",
       "      <td>(1E)-1-(2-hydroxy-5-methylphenyl)-1-dodecanone...</td>\n",
       "      <td>0</td>\n",
       "      <td>98.35</td>\n",
       "      <td>Sigma</td>\n",
       "      <td>MFCD00900589</td>\n",
       "      <td>(1E)-1-(2-hydroxy-5-methylphenyl)-1-dodecanone...</td>\n",
       "      <td>305.235</td>\n",
       "      <td>CCCCCCCCCCCC([N+][O-])c1cc(C)ccc1O</td>\n",
       "      <td>NFONIVRMILHYLH-UHFFFAOYSA-N</td>\n",
       "      <td>54108714.0</td>\n",
       "    </tr>\n",
       "    <tr>\n",
       "      <th>1</th>\n",
       "      <td>BRD-K89787693-001-01-1</td>\n",
       "      <td>[sar9,met(o2)11]-substance-p</td>\n",
       "      <td>0</td>\n",
       "      <td>NaN</td>\n",
       "      <td>Tocris</td>\n",
       "      <td>1178</td>\n",
       "      <td>2-({5-amino-2-[({1-[6-amino-2-({[1-(2-amino-5-...</td>\n",
       "      <td>1,392.73</td>\n",
       "      <td>CC(C)C[C@H](NC(=O)CN(C)C(=O)[C@H](Cc1ccccc1)NC...</td>\n",
       "      <td>OUPXSLGGCPUZJJ-SARDKLJWSA-N</td>\n",
       "      <td>163829.0</td>\n",
       "    </tr>\n",
       "    <tr>\n",
       "      <th>2</th>\n",
       "      <td>BRD-K88956297-003-01-9</td>\n",
       "      <td>1-((Z)-3-Chloroallyl)-1,3,5,7-tetraazaadamanta...</td>\n",
       "      <td>0</td>\n",
       "      <td>94.41</td>\n",
       "      <td>BidePharm</td>\n",
       "      <td>BD51690</td>\n",
       "      <td>1-((Z)-3-Chloroallyl)-1,3,5,7-tetraazaadamanta...</td>\n",
       "      <td>215.106</td>\n",
       "      <td>Cl\\C=C/C[N+]12CN3CN(CN(C3)C1)C2</td>\n",
       "      <td>LDLCEGCJYSDJLX-UPHRSURJSA-N</td>\n",
       "      <td>5846454.0</td>\n",
       "    </tr>\n",
       "    <tr>\n",
       "      <th>3</th>\n",
       "      <td>BRD-A86415025-050-01-0</td>\n",
       "      <td>1-(1,2-Diphenylethyl)piperidine-(+/-)</td>\n",
       "      <td>0</td>\n",
       "      <td>98.04</td>\n",
       "      <td>Tocris</td>\n",
       "      <td>360</td>\n",
       "      <td>(?)-1-(1,2-Diphenylethyl)piperidine maleate</td>\n",
       "      <td>265.183</td>\n",
       "      <td>C(C(N1CCCCC1)c1ccccc1)c1ccccc1</td>\n",
       "      <td>JQWJJJYHVHNXJH-UHFFFAOYSA-N</td>\n",
       "      <td>206666.0</td>\n",
       "    </tr>\n",
       "    <tr>\n",
       "      <th>4</th>\n",
       "      <td>BRD-A95802703-001-01-0</td>\n",
       "      <td>1-(2-chloro-5-methylphenoxy)-3-(isopropylamino...</td>\n",
       "      <td>0</td>\n",
       "      <td>92.38</td>\n",
       "      <td>Enamine</td>\n",
       "      <td>Z1672746675</td>\n",
       "      <td>1-(2-chloro-5-methylphenoxy)-3-(isopropylamino...</td>\n",
       "      <td>257.118</td>\n",
       "      <td>CC(C)NCC(O)COc1cc(C)ccc1Cl</td>\n",
       "      <td>NJEIOWSBPCZKTL-UHFFFAOYSA-N</td>\n",
       "      <td>20497006.0</td>\n",
       "    </tr>\n",
       "  </tbody>\n",
       "</table>\n",
       "</div>"
      ],
      "text/plain": [
       "                 broad_id                                         pert_iname  \\\n",
       "0  BRD-A37752546-001-01-9  (1E)-1-(2-hydroxy-5-methylphenyl)-1-dodecanone...   \n",
       "1  BRD-K89787693-001-01-1                       [sar9,met(o2)11]-substance-p   \n",
       "2  BRD-K88956297-003-01-9  1-((Z)-3-Chloroallyl)-1,3,5,7-tetraazaadamanta...   \n",
       "3  BRD-A86415025-050-01-0              1-(1,2-Diphenylethyl)piperidine-(+/-)   \n",
       "4  BRD-A95802703-001-01-0  1-(2-chloro-5-methylphenoxy)-3-(isopropylamino...   \n",
       "\n",
       "   qc_incompatible  purity     vendor    catalog_no  \\\n",
       "0                0   98.35      Sigma  MFCD00900589   \n",
       "1                0     NaN     Tocris          1178   \n",
       "2                0   94.41  BidePharm       BD51690   \n",
       "3                0   98.04     Tocris           360   \n",
       "4                0   92.38    Enamine   Z1672746675   \n",
       "\n",
       "                                         vendor_name expected_mass  \\\n",
       "0  (1E)-1-(2-hydroxy-5-methylphenyl)-1-dodecanone...       305.235   \n",
       "1  2-({5-amino-2-[({1-[6-amino-2-({[1-(2-amino-5-...      1,392.73   \n",
       "2  1-((Z)-3-Chloroallyl)-1,3,5,7-tetraazaadamanta...       215.106   \n",
       "3        (?)-1-(1,2-Diphenylethyl)piperidine maleate       265.183   \n",
       "4  1-(2-chloro-5-methylphenoxy)-3-(isopropylamino...       257.118   \n",
       "\n",
       "                                              smiles  \\\n",
       "0                 CCCCCCCCCCCC([N+][O-])c1cc(C)ccc1O   \n",
       "1  CC(C)C[C@H](NC(=O)CN(C)C(=O)[C@H](Cc1ccccc1)NC...   \n",
       "2                    Cl\\C=C/C[N+]12CN3CN(CN(C3)C1)C2   \n",
       "3                     C(C(N1CCCCC1)c1ccccc1)c1ccccc1   \n",
       "4                         CC(C)NCC(O)COc1cc(C)ccc1Cl   \n",
       "\n",
       "                      InChIKey  pubchem_cid  \n",
       "0  NFONIVRMILHYLH-UHFFFAOYSA-N   54108714.0  \n",
       "1  OUPXSLGGCPUZJJ-SARDKLJWSA-N     163829.0  \n",
       "2  LDLCEGCJYSDJLX-UPHRSURJSA-N    5846454.0  \n",
       "3  JQWJJJYHVHNXJH-UHFFFAOYSA-N     206666.0  \n",
       "4  NJEIOWSBPCZKTL-UHFFFAOYSA-N   20497006.0  "
      ]
     },
     "execution_count": 26,
     "metadata": {},
     "output_type": "execute_result"
    }
   ],
   "source": [
    "data.head()"
   ]
  },
  {
   "cell_type": "code",
   "execution_count": 27,
   "metadata": {
    "collapsed": true
   },
   "outputs": [],
   "source": [
    "cilinical_info = pd.read_csv('Input/repurposing_drugs_20170327.txt', sep='\\t', skiprows=9, encoding = \"latin1\")"
   ]
  },
  {
   "cell_type": "code",
   "execution_count": 28,
   "metadata": {},
   "outputs": [
    {
     "data": {
      "text/html": [
       "<div>\n",
       "<style scoped>\n",
       "    .dataframe tbody tr th:only-of-type {\n",
       "        vertical-align: middle;\n",
       "    }\n",
       "\n",
       "    .dataframe tbody tr th {\n",
       "        vertical-align: top;\n",
       "    }\n",
       "\n",
       "    .dataframe thead th {\n",
       "        text-align: right;\n",
       "    }\n",
       "</style>\n",
       "<table border=\"1\" class=\"dataframe\">\n",
       "  <thead>\n",
       "    <tr style=\"text-align: right;\">\n",
       "      <th></th>\n",
       "      <th>pert_iname</th>\n",
       "      <th>clinical_phase</th>\n",
       "      <th>moa</th>\n",
       "      <th>target</th>\n",
       "    </tr>\n",
       "  </thead>\n",
       "  <tbody>\n",
       "    <tr>\n",
       "      <th>0</th>\n",
       "      <td>(1E)-1-(2-hydroxy-5-methylphenyl)-1-dodecanone...</td>\n",
       "      <td>Preclinical</td>\n",
       "      <td>NaN</td>\n",
       "      <td>NaN</td>\n",
       "    </tr>\n",
       "    <tr>\n",
       "      <th>1</th>\n",
       "      <td>A-317491</td>\n",
       "      <td>Preclinical</td>\n",
       "      <td>purinergic receptor antagonist</td>\n",
       "      <td>P2RX3</td>\n",
       "    </tr>\n",
       "    <tr>\n",
       "      <th>2</th>\n",
       "      <td>A-33903</td>\n",
       "      <td>Phase 2</td>\n",
       "      <td>NaN</td>\n",
       "      <td>NaN</td>\n",
       "    </tr>\n",
       "    <tr>\n",
       "      <th>3</th>\n",
       "      <td>A-366</td>\n",
       "      <td>Preclinical</td>\n",
       "      <td>histone lysine methyltransferase inhibitor</td>\n",
       "      <td>EHMT1|EHMT2</td>\n",
       "    </tr>\n",
       "    <tr>\n",
       "      <th>4</th>\n",
       "      <td>A-674563</td>\n",
       "      <td>Preclinical</td>\n",
       "      <td>AKT inhibitor</td>\n",
       "      <td>AKT1|PKIA|PRKACA</td>\n",
       "    </tr>\n",
       "  </tbody>\n",
       "</table>\n",
       "</div>"
      ],
      "text/plain": [
       "                                          pert_iname clinical_phase  \\\n",
       "0  (1E)-1-(2-hydroxy-5-methylphenyl)-1-dodecanone...    Preclinical   \n",
       "1                                           A-317491    Preclinical   \n",
       "2                                            A-33903        Phase 2   \n",
       "3                                              A-366    Preclinical   \n",
       "4                                           A-674563    Preclinical   \n",
       "\n",
       "                                          moa            target  \n",
       "0                                         NaN               NaN  \n",
       "1              purinergic receptor antagonist             P2RX3  \n",
       "2                                         NaN               NaN  \n",
       "3  histone lysine methyltransferase inhibitor       EHMT1|EHMT2  \n",
       "4                               AKT inhibitor  AKT1|PKIA|PRKACA  "
      ]
     },
     "execution_count": 28,
     "metadata": {},
     "output_type": "execute_result"
    }
   ],
   "source": [
    "cilinical_info.head()"
   ]
  },
  {
   "cell_type": "code",
   "execution_count": 29,
   "metadata": {},
   "outputs": [],
   "source": [
    "cilinical_info = cilinical_info[cilinical_info['clinical_phase']=='Launched']"
   ]
  },
  {
   "cell_type": "code",
   "execution_count": 30,
   "metadata": {},
   "outputs": [
    {
     "data": {
      "text/html": [
       "<div>\n",
       "<style scoped>\n",
       "    .dataframe tbody tr th:only-of-type {\n",
       "        vertical-align: middle;\n",
       "    }\n",
       "\n",
       "    .dataframe tbody tr th {\n",
       "        vertical-align: top;\n",
       "    }\n",
       "\n",
       "    .dataframe thead th {\n",
       "        text-align: right;\n",
       "    }\n",
       "</style>\n",
       "<table border=\"1\" class=\"dataframe\">\n",
       "  <thead>\n",
       "    <tr style=\"text-align: right;\">\n",
       "      <th></th>\n",
       "      <th>pert_iname</th>\n",
       "      <th>clinical_phase</th>\n",
       "      <th>moa</th>\n",
       "      <th>target</th>\n",
       "    </tr>\n",
       "  </thead>\n",
       "  <tbody>\n",
       "    <tr>\n",
       "      <th>8</th>\n",
       "      <td>abacavir</td>\n",
       "      <td>Launched</td>\n",
       "      <td>nucleoside reverse transcriptase inhibitor</td>\n",
       "      <td>NaN</td>\n",
       "    </tr>\n",
       "    <tr>\n",
       "      <th>10</th>\n",
       "      <td>abamectin</td>\n",
       "      <td>Launched</td>\n",
       "      <td>benzodiazepine receptor agonist</td>\n",
       "      <td>GABBR1|GABBR2</td>\n",
       "    </tr>\n",
       "    <tr>\n",
       "      <th>13</th>\n",
       "      <td>abiraterone</td>\n",
       "      <td>Launched</td>\n",
       "      <td>androgen biosynthesis inhibitor</td>\n",
       "      <td>CYP11B1|CYP17A1</td>\n",
       "    </tr>\n",
       "    <tr>\n",
       "      <th>14</th>\n",
       "      <td>abiraterone-acetate</td>\n",
       "      <td>Launched</td>\n",
       "      <td>androgen biosynthesis inhibitor</td>\n",
       "      <td>CYP17A1</td>\n",
       "    </tr>\n",
       "    <tr>\n",
       "      <th>30</th>\n",
       "      <td>acamprosate</td>\n",
       "      <td>Launched</td>\n",
       "      <td>glutamate receptor antagonist</td>\n",
       "      <td>GABRA1|GABRA2|GABRA3|GABRA4|GABRA5|GABRA6|GABR...</td>\n",
       "    </tr>\n",
       "  </tbody>\n",
       "</table>\n",
       "</div>"
      ],
      "text/plain": [
       "             pert_iname clinical_phase  \\\n",
       "8              abacavir       Launched   \n",
       "10            abamectin       Launched   \n",
       "13          abiraterone       Launched   \n",
       "14  abiraterone-acetate       Launched   \n",
       "30          acamprosate       Launched   \n",
       "\n",
       "                                           moa  \\\n",
       "8   nucleoside reverse transcriptase inhibitor   \n",
       "10             benzodiazepine receptor agonist   \n",
       "13             androgen biosynthesis inhibitor   \n",
       "14             androgen biosynthesis inhibitor   \n",
       "30               glutamate receptor antagonist   \n",
       "\n",
       "                                               target  \n",
       "8                                                 NaN  \n",
       "10                                      GABBR1|GABBR2  \n",
       "13                                    CYP11B1|CYP17A1  \n",
       "14                                            CYP17A1  \n",
       "30  GABRA1|GABRA2|GABRA3|GABRA4|GABRA5|GABRA6|GABR...  "
      ]
     },
     "execution_count": 30,
     "metadata": {},
     "output_type": "execute_result"
    }
   ],
   "source": [
    "cilinical_info.head()"
   ]
  },
  {
   "cell_type": "code",
   "execution_count": 31,
   "metadata": {},
   "outputs": [
    {
     "data": {
      "text/plain": [
       "(2350, 4)"
      ]
     },
     "execution_count": 31,
     "metadata": {},
     "output_type": "execute_result"
    }
   ],
   "source": [
    "cilinical_info.shape"
   ]
  },
  {
   "cell_type": "code",
   "execution_count": 32,
   "metadata": {},
   "outputs": [],
   "source": [
    "data.set_index('pert_iname', inplace=True)"
   ]
  },
  {
   "cell_type": "code",
   "execution_count": 33,
   "metadata": {},
   "outputs": [],
   "source": [
    "data = data.loc[cilinical_info['pert_iname'].values.tolist()]"
   ]
  },
  {
   "cell_type": "code",
   "execution_count": 34,
   "metadata": {},
   "outputs": [
    {
     "data": {
      "text/html": [
       "<div>\n",
       "<style scoped>\n",
       "    .dataframe tbody tr th:only-of-type {\n",
       "        vertical-align: middle;\n",
       "    }\n",
       "\n",
       "    .dataframe tbody tr th {\n",
       "        vertical-align: top;\n",
       "    }\n",
       "\n",
       "    .dataframe thead th {\n",
       "        text-align: right;\n",
       "    }\n",
       "</style>\n",
       "<table border=\"1\" class=\"dataframe\">\n",
       "  <thead>\n",
       "    <tr style=\"text-align: right;\">\n",
       "      <th></th>\n",
       "      <th>broad_id</th>\n",
       "      <th>qc_incompatible</th>\n",
       "      <th>purity</th>\n",
       "      <th>vendor</th>\n",
       "      <th>catalog_no</th>\n",
       "      <th>vendor_name</th>\n",
       "      <th>expected_mass</th>\n",
       "      <th>smiles</th>\n",
       "      <th>InChIKey</th>\n",
       "      <th>pubchem_cid</th>\n",
       "    </tr>\n",
       "    <tr>\n",
       "      <th>pert_iname</th>\n",
       "      <th></th>\n",
       "      <th></th>\n",
       "      <th></th>\n",
       "      <th></th>\n",
       "      <th></th>\n",
       "      <th></th>\n",
       "      <th></th>\n",
       "      <th></th>\n",
       "      <th></th>\n",
       "      <th></th>\n",
       "    </tr>\n",
       "  </thead>\n",
       "  <tbody>\n",
       "    <tr>\n",
       "      <th>abacavir</th>\n",
       "      <td>BRD-A95032015-065-01-2</td>\n",
       "      <td>0</td>\n",
       "      <td>98.25</td>\n",
       "      <td>MicroSource</td>\n",
       "      <td>1502410</td>\n",
       "      <td>ABACAVIR SULFATE</td>\n",
       "      <td>286.154</td>\n",
       "      <td>Nc1nc(NC2CC2)c2ncn(C3C[C@H](CO)C=C3)c2n1</td>\n",
       "      <td>MCGSCOLBFJQGHM-HNHGDDPOSA-N</td>\n",
       "      <td>6328608.0</td>\n",
       "    </tr>\n",
       "    <tr>\n",
       "      <th>abacavir</th>\n",
       "      <td>BRD-K17443395-065-01-4</td>\n",
       "      <td>0</td>\n",
       "      <td>96.52</td>\n",
       "      <td>Selleck</td>\n",
       "      <td>S3165</td>\n",
       "      <td>Abacavir sulfate</td>\n",
       "      <td>286.154</td>\n",
       "      <td>Nc1nc(NC2CC2)c2ncn([C@@H]3C[C@H](CO)C=C3)c2n1</td>\n",
       "      <td>MCGSCOLBFJQGHM-SCZZXKLOSA-N</td>\n",
       "      <td>441300.0</td>\n",
       "    </tr>\n",
       "    <tr>\n",
       "      <th>abamectin</th>\n",
       "      <td>BRD-A25579302-001-04-8</td>\n",
       "      <td>0</td>\n",
       "      <td>61.00</td>\n",
       "      <td>MicroSource</td>\n",
       "      <td>1502260</td>\n",
       "      <td>ABAMECTIN (avermectin B1a shown)</td>\n",
       "      <td>872.492</td>\n",
       "      <td>CCC(C)[C@H]1O[C@@]2(C[C@@H]3C[C@@H](C\\C=C(C)\\[...</td>\n",
       "      <td>RRZXIRBKKLTSOM-ONDMGMIHSA-N</td>\n",
       "      <td>5702208.0</td>\n",
       "    </tr>\n",
       "    <tr>\n",
       "      <th>abiraterone</th>\n",
       "      <td>BRD-K00111504-001-01-9</td>\n",
       "      <td>0</td>\n",
       "      <td>92.23</td>\n",
       "      <td>Selleck</td>\n",
       "      <td>S1123</td>\n",
       "      <td>Abiraterone (CB-7598)</td>\n",
       "      <td>349.241</td>\n",
       "      <td>C[C@]12CC[C@@H]3[C@@H](CC=C4C[C@@H](O)CC[C@]34...</td>\n",
       "      <td>GZOSMCIZMLWJML-APXSMTNNSA-N</td>\n",
       "      <td>NaN</td>\n",
       "    </tr>\n",
       "    <tr>\n",
       "      <th>abiraterone-acetate</th>\n",
       "      <td>BRD-K24048528-001-01-7</td>\n",
       "      <td>0</td>\n",
       "      <td>98.65</td>\n",
       "      <td>Selleck</td>\n",
       "      <td>S2246</td>\n",
       "      <td>Abiraterone Acetate</td>\n",
       "      <td>391.251</td>\n",
       "      <td>CC(=O)O[C@H]1CC[C@]2(C)[C@H]3CC[C@@]4(C)[C@@H]...</td>\n",
       "      <td>UVIQSJCZCSLXRZ-UBUQANBQSA-N</td>\n",
       "      <td>9821849.0</td>\n",
       "    </tr>\n",
       "  </tbody>\n",
       "</table>\n",
       "</div>"
      ],
      "text/plain": [
       "                                   broad_id  qc_incompatible  purity  \\\n",
       "pert_iname                                                             \n",
       "abacavir             BRD-A95032015-065-01-2                0   98.25   \n",
       "abacavir             BRD-K17443395-065-01-4                0   96.52   \n",
       "abamectin            BRD-A25579302-001-04-8                0   61.00   \n",
       "abiraterone          BRD-K00111504-001-01-9                0   92.23   \n",
       "abiraterone-acetate  BRD-K24048528-001-01-7                0   98.65   \n",
       "\n",
       "                          vendor catalog_no                       vendor_name  \\\n",
       "pert_iname                                                                      \n",
       "abacavir             MicroSource    1502410                  ABACAVIR SULFATE   \n",
       "abacavir                 Selleck      S3165                  Abacavir sulfate   \n",
       "abamectin            MicroSource    1502260  ABAMECTIN (avermectin B1a shown)   \n",
       "abiraterone              Selleck      S1123             Abiraterone (CB-7598)   \n",
       "abiraterone-acetate      Selleck      S2246               Abiraterone Acetate   \n",
       "\n",
       "                    expected_mass  \\\n",
       "pert_iname                          \n",
       "abacavir                  286.154   \n",
       "abacavir                  286.154   \n",
       "abamectin                 872.492   \n",
       "abiraterone               349.241   \n",
       "abiraterone-acetate       391.251   \n",
       "\n",
       "                                                                smiles  \\\n",
       "pert_iname                                                               \n",
       "abacavir                      Nc1nc(NC2CC2)c2ncn(C3C[C@H](CO)C=C3)c2n1   \n",
       "abacavir                 Nc1nc(NC2CC2)c2ncn([C@@H]3C[C@H](CO)C=C3)c2n1   \n",
       "abamectin            CCC(C)[C@H]1O[C@@]2(C[C@@H]3C[C@@H](C\\C=C(C)\\[...   \n",
       "abiraterone          C[C@]12CC[C@@H]3[C@@H](CC=C4C[C@@H](O)CC[C@]34...   \n",
       "abiraterone-acetate  CC(=O)O[C@H]1CC[C@]2(C)[C@H]3CC[C@@]4(C)[C@@H]...   \n",
       "\n",
       "                                        InChIKey  pubchem_cid  \n",
       "pert_iname                                                     \n",
       "abacavir             MCGSCOLBFJQGHM-HNHGDDPOSA-N    6328608.0  \n",
       "abacavir             MCGSCOLBFJQGHM-SCZZXKLOSA-N     441300.0  \n",
       "abamectin            RRZXIRBKKLTSOM-ONDMGMIHSA-N    5702208.0  \n",
       "abiraterone          GZOSMCIZMLWJML-APXSMTNNSA-N          NaN  \n",
       "abiraterone-acetate  UVIQSJCZCSLXRZ-UBUQANBQSA-N    9821849.0  "
      ]
     },
     "execution_count": 34,
     "metadata": {},
     "output_type": "execute_result"
    }
   ],
   "source": [
    "data.head()"
   ]
  },
  {
   "cell_type": "code",
   "execution_count": 35,
   "metadata": {},
   "outputs": [
    {
     "data": {
      "text/plain": [
       "(4301, 10)"
      ]
     },
     "execution_count": 35,
     "metadata": {},
     "output_type": "execute_result"
    }
   ],
   "source": [
    "data.shape"
   ]
  },
  {
   "cell_type": "code",
   "execution_count": 36,
   "metadata": {},
   "outputs": [],
   "source": [
    "data.dropna(subset=['pubchem_cid'], inplace=True)"
   ]
  },
  {
   "cell_type": "code",
   "execution_count": 37,
   "metadata": {},
   "outputs": [
    {
     "data": {
      "text/html": [
       "<div>\n",
       "<style scoped>\n",
       "    .dataframe tbody tr th:only-of-type {\n",
       "        vertical-align: middle;\n",
       "    }\n",
       "\n",
       "    .dataframe tbody tr th {\n",
       "        vertical-align: top;\n",
       "    }\n",
       "\n",
       "    .dataframe thead th {\n",
       "        text-align: right;\n",
       "    }\n",
       "</style>\n",
       "<table border=\"1\" class=\"dataframe\">\n",
       "  <thead>\n",
       "    <tr style=\"text-align: right;\">\n",
       "      <th></th>\n",
       "      <th>broad_id</th>\n",
       "      <th>qc_incompatible</th>\n",
       "      <th>purity</th>\n",
       "      <th>vendor</th>\n",
       "      <th>catalog_no</th>\n",
       "      <th>vendor_name</th>\n",
       "      <th>expected_mass</th>\n",
       "      <th>smiles</th>\n",
       "      <th>InChIKey</th>\n",
       "      <th>pubchem_cid</th>\n",
       "    </tr>\n",
       "    <tr>\n",
       "      <th>pert_iname</th>\n",
       "      <th></th>\n",
       "      <th></th>\n",
       "      <th></th>\n",
       "      <th></th>\n",
       "      <th></th>\n",
       "      <th></th>\n",
       "      <th></th>\n",
       "      <th></th>\n",
       "      <th></th>\n",
       "      <th></th>\n",
       "    </tr>\n",
       "  </thead>\n",
       "  <tbody>\n",
       "    <tr>\n",
       "      <th>abacavir</th>\n",
       "      <td>BRD-A95032015-065-01-2</td>\n",
       "      <td>0</td>\n",
       "      <td>98.25</td>\n",
       "      <td>MicroSource</td>\n",
       "      <td>1502410</td>\n",
       "      <td>ABACAVIR SULFATE</td>\n",
       "      <td>286.154</td>\n",
       "      <td>Nc1nc(NC2CC2)c2ncn(C3C[C@H](CO)C=C3)c2n1</td>\n",
       "      <td>MCGSCOLBFJQGHM-HNHGDDPOSA-N</td>\n",
       "      <td>6328608.0</td>\n",
       "    </tr>\n",
       "    <tr>\n",
       "      <th>abacavir</th>\n",
       "      <td>BRD-K17443395-065-01-4</td>\n",
       "      <td>0</td>\n",
       "      <td>96.52</td>\n",
       "      <td>Selleck</td>\n",
       "      <td>S3165</td>\n",
       "      <td>Abacavir sulfate</td>\n",
       "      <td>286.154</td>\n",
       "      <td>Nc1nc(NC2CC2)c2ncn([C@@H]3C[C@H](CO)C=C3)c2n1</td>\n",
       "      <td>MCGSCOLBFJQGHM-SCZZXKLOSA-N</td>\n",
       "      <td>441300.0</td>\n",
       "    </tr>\n",
       "    <tr>\n",
       "      <th>abamectin</th>\n",
       "      <td>BRD-A25579302-001-04-8</td>\n",
       "      <td>0</td>\n",
       "      <td>61.00</td>\n",
       "      <td>MicroSource</td>\n",
       "      <td>1502260</td>\n",
       "      <td>ABAMECTIN (avermectin B1a shown)</td>\n",
       "      <td>872.492</td>\n",
       "      <td>CCC(C)[C@H]1O[C@@]2(C[C@@H]3C[C@@H](C\\C=C(C)\\[...</td>\n",
       "      <td>RRZXIRBKKLTSOM-ONDMGMIHSA-N</td>\n",
       "      <td>5702208.0</td>\n",
       "    </tr>\n",
       "    <tr>\n",
       "      <th>abiraterone-acetate</th>\n",
       "      <td>BRD-K24048528-001-01-7</td>\n",
       "      <td>0</td>\n",
       "      <td>98.65</td>\n",
       "      <td>Selleck</td>\n",
       "      <td>S2246</td>\n",
       "      <td>Abiraterone Acetate</td>\n",
       "      <td>391.251</td>\n",
       "      <td>CC(=O)O[C@H]1CC[C@]2(C)[C@H]3CC[C@@]4(C)[C@@H]...</td>\n",
       "      <td>UVIQSJCZCSLXRZ-UBUQANBQSA-N</td>\n",
       "      <td>9821849.0</td>\n",
       "    </tr>\n",
       "    <tr>\n",
       "      <th>acamprosate</th>\n",
       "      <td>BRD-K26262077-238-01-5</td>\n",
       "      <td>1</td>\n",
       "      <td>0.00</td>\n",
       "      <td>MicroSource</td>\n",
       "      <td>1505711</td>\n",
       "      <td>ACAMPROSATE CALCIUM</td>\n",
       "      <td>181.041</td>\n",
       "      <td>CC(=O)NCCCS(O)(=O)=O</td>\n",
       "      <td>AFCGFAGUEYAMAO-UHFFFAOYSA-N</td>\n",
       "      <td>71158.0</td>\n",
       "    </tr>\n",
       "  </tbody>\n",
       "</table>\n",
       "</div>"
      ],
      "text/plain": [
       "                                   broad_id  qc_incompatible  purity  \\\n",
       "pert_iname                                                             \n",
       "abacavir             BRD-A95032015-065-01-2                0   98.25   \n",
       "abacavir             BRD-K17443395-065-01-4                0   96.52   \n",
       "abamectin            BRD-A25579302-001-04-8                0   61.00   \n",
       "abiraterone-acetate  BRD-K24048528-001-01-7                0   98.65   \n",
       "acamprosate          BRD-K26262077-238-01-5                1    0.00   \n",
       "\n",
       "                          vendor catalog_no                       vendor_name  \\\n",
       "pert_iname                                                                      \n",
       "abacavir             MicroSource    1502410                  ABACAVIR SULFATE   \n",
       "abacavir                 Selleck      S3165                  Abacavir sulfate   \n",
       "abamectin            MicroSource    1502260  ABAMECTIN (avermectin B1a shown)   \n",
       "abiraterone-acetate      Selleck      S2246               Abiraterone Acetate   \n",
       "acamprosate          MicroSource    1505711               ACAMPROSATE CALCIUM   \n",
       "\n",
       "                    expected_mass  \\\n",
       "pert_iname                          \n",
       "abacavir                  286.154   \n",
       "abacavir                  286.154   \n",
       "abamectin                 872.492   \n",
       "abiraterone-acetate       391.251   \n",
       "acamprosate               181.041   \n",
       "\n",
       "                                                                smiles  \\\n",
       "pert_iname                                                               \n",
       "abacavir                      Nc1nc(NC2CC2)c2ncn(C3C[C@H](CO)C=C3)c2n1   \n",
       "abacavir                 Nc1nc(NC2CC2)c2ncn([C@@H]3C[C@H](CO)C=C3)c2n1   \n",
       "abamectin            CCC(C)[C@H]1O[C@@]2(C[C@@H]3C[C@@H](C\\C=C(C)\\[...   \n",
       "abiraterone-acetate  CC(=O)O[C@H]1CC[C@]2(C)[C@H]3CC[C@@]4(C)[C@@H]...   \n",
       "acamprosate                                       CC(=O)NCCCS(O)(=O)=O   \n",
       "\n",
       "                                        InChIKey  pubchem_cid  \n",
       "pert_iname                                                     \n",
       "abacavir             MCGSCOLBFJQGHM-HNHGDDPOSA-N    6328608.0  \n",
       "abacavir             MCGSCOLBFJQGHM-SCZZXKLOSA-N     441300.0  \n",
       "abamectin            RRZXIRBKKLTSOM-ONDMGMIHSA-N    5702208.0  \n",
       "abiraterone-acetate  UVIQSJCZCSLXRZ-UBUQANBQSA-N    9821849.0  \n",
       "acamprosate          AFCGFAGUEYAMAO-UHFFFAOYSA-N      71158.0  "
      ]
     },
     "execution_count": 37,
     "metadata": {},
     "output_type": "execute_result"
    }
   ],
   "source": [
    "data.head()"
   ]
  },
  {
   "cell_type": "code",
   "execution_count": 38,
   "metadata": {},
   "outputs": [
    {
     "data": {
      "text/plain": [
       "(4002, 10)"
      ]
     },
     "execution_count": 38,
     "metadata": {},
     "output_type": "execute_result"
    }
   ],
   "source": [
    "data.shape"
   ]
  },
  {
   "cell_type": "code",
   "execution_count": 39,
   "metadata": {},
   "outputs": [],
   "source": [
    "data = data.drop_duplicates(subset=['pubchem_cid'], keep='first')"
   ]
  },
  {
   "cell_type": "code",
   "execution_count": 40,
   "metadata": {},
   "outputs": [
    {
     "data": {
      "text/plain": [
       "(2535, 10)"
      ]
     },
     "execution_count": 40,
     "metadata": {},
     "output_type": "execute_result"
    }
   ],
   "source": [
    "data.shape"
   ]
  },
  {
   "cell_type": "code",
   "execution_count": 41,
   "metadata": {
    "collapsed": true
   },
   "outputs": [],
   "source": [
    "data.reset_index(inplace=True)"
   ]
  },
  {
   "cell_type": "code",
   "execution_count": 42,
   "metadata": {},
   "outputs": [
    {
     "data": {
      "text/html": [
       "<div>\n",
       "<style scoped>\n",
       "    .dataframe tbody tr th:only-of-type {\n",
       "        vertical-align: middle;\n",
       "    }\n",
       "\n",
       "    .dataframe tbody tr th {\n",
       "        vertical-align: top;\n",
       "    }\n",
       "\n",
       "    .dataframe thead th {\n",
       "        text-align: right;\n",
       "    }\n",
       "</style>\n",
       "<table border=\"1\" class=\"dataframe\">\n",
       "  <thead>\n",
       "    <tr style=\"text-align: right;\">\n",
       "      <th></th>\n",
       "      <th>pert_iname</th>\n",
       "      <th>broad_id</th>\n",
       "      <th>qc_incompatible</th>\n",
       "      <th>purity</th>\n",
       "      <th>vendor</th>\n",
       "      <th>catalog_no</th>\n",
       "      <th>vendor_name</th>\n",
       "      <th>expected_mass</th>\n",
       "      <th>smiles</th>\n",
       "      <th>InChIKey</th>\n",
       "      <th>pubchem_cid</th>\n",
       "    </tr>\n",
       "  </thead>\n",
       "  <tbody>\n",
       "    <tr>\n",
       "      <th>0</th>\n",
       "      <td>abacavir</td>\n",
       "      <td>BRD-A95032015-065-01-2</td>\n",
       "      <td>0</td>\n",
       "      <td>98.25</td>\n",
       "      <td>MicroSource</td>\n",
       "      <td>1502410</td>\n",
       "      <td>ABACAVIR SULFATE</td>\n",
       "      <td>286.154</td>\n",
       "      <td>Nc1nc(NC2CC2)c2ncn(C3C[C@H](CO)C=C3)c2n1</td>\n",
       "      <td>MCGSCOLBFJQGHM-HNHGDDPOSA-N</td>\n",
       "      <td>6328608.0</td>\n",
       "    </tr>\n",
       "    <tr>\n",
       "      <th>1</th>\n",
       "      <td>abacavir</td>\n",
       "      <td>BRD-K17443395-065-01-4</td>\n",
       "      <td>0</td>\n",
       "      <td>96.52</td>\n",
       "      <td>Selleck</td>\n",
       "      <td>S3165</td>\n",
       "      <td>Abacavir sulfate</td>\n",
       "      <td>286.154</td>\n",
       "      <td>Nc1nc(NC2CC2)c2ncn([C@@H]3C[C@H](CO)C=C3)c2n1</td>\n",
       "      <td>MCGSCOLBFJQGHM-SCZZXKLOSA-N</td>\n",
       "      <td>441300.0</td>\n",
       "    </tr>\n",
       "    <tr>\n",
       "      <th>2</th>\n",
       "      <td>abamectin</td>\n",
       "      <td>BRD-A25579302-001-04-8</td>\n",
       "      <td>0</td>\n",
       "      <td>61.00</td>\n",
       "      <td>MicroSource</td>\n",
       "      <td>1502260</td>\n",
       "      <td>ABAMECTIN (avermectin B1a shown)</td>\n",
       "      <td>872.492</td>\n",
       "      <td>CCC(C)[C@H]1O[C@@]2(C[C@@H]3C[C@@H](C\\C=C(C)\\[...</td>\n",
       "      <td>RRZXIRBKKLTSOM-ONDMGMIHSA-N</td>\n",
       "      <td>5702208.0</td>\n",
       "    </tr>\n",
       "    <tr>\n",
       "      <th>3</th>\n",
       "      <td>abiraterone-acetate</td>\n",
       "      <td>BRD-K24048528-001-01-7</td>\n",
       "      <td>0</td>\n",
       "      <td>98.65</td>\n",
       "      <td>Selleck</td>\n",
       "      <td>S2246</td>\n",
       "      <td>Abiraterone Acetate</td>\n",
       "      <td>391.251</td>\n",
       "      <td>CC(=O)O[C@H]1CC[C@]2(C)[C@H]3CC[C@@]4(C)[C@@H]...</td>\n",
       "      <td>UVIQSJCZCSLXRZ-UBUQANBQSA-N</td>\n",
       "      <td>9821849.0</td>\n",
       "    </tr>\n",
       "    <tr>\n",
       "      <th>4</th>\n",
       "      <td>acamprosate</td>\n",
       "      <td>BRD-K26262077-238-01-5</td>\n",
       "      <td>1</td>\n",
       "      <td>0.00</td>\n",
       "      <td>MicroSource</td>\n",
       "      <td>1505711</td>\n",
       "      <td>ACAMPROSATE CALCIUM</td>\n",
       "      <td>181.041</td>\n",
       "      <td>CC(=O)NCCCS(O)(=O)=O</td>\n",
       "      <td>AFCGFAGUEYAMAO-UHFFFAOYSA-N</td>\n",
       "      <td>71158.0</td>\n",
       "    </tr>\n",
       "  </tbody>\n",
       "</table>\n",
       "</div>"
      ],
      "text/plain": [
       "            pert_iname                broad_id  qc_incompatible  purity  \\\n",
       "0             abacavir  BRD-A95032015-065-01-2                0   98.25   \n",
       "1             abacavir  BRD-K17443395-065-01-4                0   96.52   \n",
       "2            abamectin  BRD-A25579302-001-04-8                0   61.00   \n",
       "3  abiraterone-acetate  BRD-K24048528-001-01-7                0   98.65   \n",
       "4          acamprosate  BRD-K26262077-238-01-5                1    0.00   \n",
       "\n",
       "        vendor catalog_no                       vendor_name expected_mass  \\\n",
       "0  MicroSource    1502410                  ABACAVIR SULFATE       286.154   \n",
       "1      Selleck      S3165                  Abacavir sulfate       286.154   \n",
       "2  MicroSource    1502260  ABAMECTIN (avermectin B1a shown)       872.492   \n",
       "3      Selleck      S2246               Abiraterone Acetate       391.251   \n",
       "4  MicroSource    1505711               ACAMPROSATE CALCIUM       181.041   \n",
       "\n",
       "                                              smiles  \\\n",
       "0           Nc1nc(NC2CC2)c2ncn(C3C[C@H](CO)C=C3)c2n1   \n",
       "1      Nc1nc(NC2CC2)c2ncn([C@@H]3C[C@H](CO)C=C3)c2n1   \n",
       "2  CCC(C)[C@H]1O[C@@]2(C[C@@H]3C[C@@H](C\\C=C(C)\\[...   \n",
       "3  CC(=O)O[C@H]1CC[C@]2(C)[C@H]3CC[C@@]4(C)[C@@H]...   \n",
       "4                               CC(=O)NCCCS(O)(=O)=O   \n",
       "\n",
       "                      InChIKey  pubchem_cid  \n",
       "0  MCGSCOLBFJQGHM-HNHGDDPOSA-N    6328608.0  \n",
       "1  MCGSCOLBFJQGHM-SCZZXKLOSA-N     441300.0  \n",
       "2  RRZXIRBKKLTSOM-ONDMGMIHSA-N    5702208.0  \n",
       "3  UVIQSJCZCSLXRZ-UBUQANBQSA-N    9821849.0  \n",
       "4  AFCGFAGUEYAMAO-UHFFFAOYSA-N      71158.0  "
      ]
     },
     "execution_count": 42,
     "metadata": {},
     "output_type": "execute_result"
    }
   ],
   "source": [
    "data.head()"
   ]
  },
  {
   "cell_type": "markdown",
   "metadata": {},
   "source": [
    "### Get Molecule PubChem ID and MACCS Keys"
   ]
  },
  {
   "cell_type": "code",
   "execution_count": 43,
   "metadata": {},
   "outputs": [
    {
     "name": "stdout",
     "output_type": "stream",
     "text": [
      "Number of drugs with data not found: 0\n",
      "Number of drugs with SMILE data not found: 0\n",
      "Number of drugs with names that not matched to ids: 0\n"
     ]
    }
   ],
   "source": [
    "drugs = []\n",
    "fingerprints = []\n",
    "namesList = []\n",
    "synonyms = []\n",
    "FailedToGetSMILE = 0\n",
    "FailedToGetID = 0\n",
    "MoleIsNone = 0\n",
    "\n",
    "for i,index in enumerate(data.index):\n",
    "    \n",
    "    progressPercent = ((i+1)/len(data.index))*100\n",
    "\n",
    "    sys.stdout.write(\"Progress: %d%%  %d Out of %d   \\r\" % (progressPercent, (i+1), len(data.index)))\n",
    "    sys.stdout.flush()\n",
    "           \n",
    "    maccs = list(MACCSkeys.GenMACCSKeys(Chem.MolFromSmiles(data.loc[index, 'smiles'])).GetOnBits())\n",
    "    maccs = ['MACCS_'+str(x) for x in maccs]\n",
    "\n",
    "    name = data.loc[index, 'pert_iname']\n",
    "    IDs = [int(data.loc[index, 'pubchem_cid'])]*len(maccs)\n",
    "    drugs.append(IDs)\n",
    "    fingerprints.append(maccs)\n",
    "    namesList.append([name]*len(maccs))\n",
    "\n",
    "\n",
    "drugs = [item for sublist in drugs for item in sublist]\n",
    "fingerprints = [item for sublist in fingerprints for item in sublist]\n",
    "namesList = [item for sublist in namesList for item in sublist]\n",
    "synonyms = [item for sublist in synonyms for item in sublist]\n",
    "df = pd.DataFrame(columns=['Drug ID', 'Drug Name', 'Drug Synonyms', 'Fingerprint'])\n",
    "df['Drug ID'] = drugs\n",
    "df['Drug Name'] = namesList\n",
    "# df['Drug Synonyms'] = synonyms\n",
    "df['Fingerprint'] = fingerprints\n",
    "\n",
    "\n",
    "print('Number of drugs with data not found: %r' % MoleIsNone)\n",
    "print('Number of drugs with SMILE data not found: %r' % FailedToGetSMILE)\n",
    "print('Number of drugs with names that not matched to ids: %r' % FailedToGetID)"
   ]
  },
  {
   "cell_type": "code",
   "execution_count": 44,
   "metadata": {},
   "outputs": [
    {
     "data": {
      "text/html": [
       "<div>\n",
       "<style scoped>\n",
       "    .dataframe tbody tr th:only-of-type {\n",
       "        vertical-align: middle;\n",
       "    }\n",
       "\n",
       "    .dataframe tbody tr th {\n",
       "        vertical-align: top;\n",
       "    }\n",
       "\n",
       "    .dataframe thead th {\n",
       "        text-align: right;\n",
       "    }\n",
       "</style>\n",
       "<table border=\"1\" class=\"dataframe\">\n",
       "  <thead>\n",
       "    <tr style=\"text-align: right;\">\n",
       "      <th></th>\n",
       "      <th>Drug ID</th>\n",
       "      <th>Drug Name</th>\n",
       "      <th>Drug Synonyms</th>\n",
       "      <th>Fingerprint</th>\n",
       "    </tr>\n",
       "  </thead>\n",
       "  <tbody>\n",
       "    <tr>\n",
       "      <th>0</th>\n",
       "      <td>6328608</td>\n",
       "      <td>abacavir</td>\n",
       "      <td>NaN</td>\n",
       "      <td>MACCS_22</td>\n",
       "    </tr>\n",
       "    <tr>\n",
       "      <th>1</th>\n",
       "      <td>6328608</td>\n",
       "      <td>abacavir</td>\n",
       "      <td>NaN</td>\n",
       "      <td>MACCS_25</td>\n",
       "    </tr>\n",
       "    <tr>\n",
       "      <th>2</th>\n",
       "      <td>6328608</td>\n",
       "      <td>abacavir</td>\n",
       "      <td>NaN</td>\n",
       "      <td>MACCS_38</td>\n",
       "    </tr>\n",
       "    <tr>\n",
       "      <th>3</th>\n",
       "      <td>6328608</td>\n",
       "      <td>abacavir</td>\n",
       "      <td>NaN</td>\n",
       "      <td>MACCS_53</td>\n",
       "    </tr>\n",
       "    <tr>\n",
       "      <th>4</th>\n",
       "      <td>6328608</td>\n",
       "      <td>abacavir</td>\n",
       "      <td>NaN</td>\n",
       "      <td>MACCS_62</td>\n",
       "    </tr>\n",
       "  </tbody>\n",
       "</table>\n",
       "</div>"
      ],
      "text/plain": [
       "   Drug ID Drug Name Drug Synonyms Fingerprint\n",
       "0  6328608  abacavir           NaN    MACCS_22\n",
       "1  6328608  abacavir           NaN    MACCS_25\n",
       "2  6328608  abacavir           NaN    MACCS_38\n",
       "3  6328608  abacavir           NaN    MACCS_53\n",
       "4  6328608  abacavir           NaN    MACCS_62"
      ]
     },
     "execution_count": 44,
     "metadata": {},
     "output_type": "execute_result"
    }
   ],
   "source": [
    "df.head()"
   ]
  },
  {
   "cell_type": "code",
   "execution_count": 45,
   "metadata": {},
   "outputs": [
    {
     "data": {
      "text/plain": [
       "(116400, 4)"
      ]
     },
     "execution_count": 45,
     "metadata": {},
     "output_type": "execute_result"
    }
   ],
   "source": [
    "df.shape"
   ]
  },
  {
   "cell_type": "code",
   "execution_count": 46,
   "metadata": {
    "collapsed": true
   },
   "outputs": [],
   "source": [
    "DRH_df = df.copy()"
   ]
  },
  {
   "cell_type": "code",
   "execution_count": 53,
   "metadata": {
    "collapsed": true
   },
   "outputs": [],
   "source": [
    "lst = []\n",
    "\n",
    "for index in DRH_df.index:\n",
    "    lst.append(DRH_df.loc[index, 'Drug Name'].upper())\n",
    "    \n",
    "DRH_df['Drug Name'] = lst"
   ]
  },
  {
   "cell_type": "code",
   "execution_count": 54,
   "metadata": {},
   "outputs": [
    {
     "data": {
      "text/html": [
       "<div>\n",
       "<style scoped>\n",
       "    .dataframe tbody tr th:only-of-type {\n",
       "        vertical-align: middle;\n",
       "    }\n",
       "\n",
       "    .dataframe tbody tr th {\n",
       "        vertical-align: top;\n",
       "    }\n",
       "\n",
       "    .dataframe thead th {\n",
       "        text-align: right;\n",
       "    }\n",
       "</style>\n",
       "<table border=\"1\" class=\"dataframe\">\n",
       "  <thead>\n",
       "    <tr style=\"text-align: right;\">\n",
       "      <th></th>\n",
       "      <th>Drug ID</th>\n",
       "      <th>Drug Name</th>\n",
       "      <th>Drug Synonyms</th>\n",
       "      <th>Fingerprint</th>\n",
       "    </tr>\n",
       "  </thead>\n",
       "  <tbody>\n",
       "    <tr>\n",
       "      <th>0</th>\n",
       "      <td>6328608</td>\n",
       "      <td>ABACAVIR</td>\n",
       "      <td>NaN</td>\n",
       "      <td>MACCS_22</td>\n",
       "    </tr>\n",
       "    <tr>\n",
       "      <th>1</th>\n",
       "      <td>6328608</td>\n",
       "      <td>ABACAVIR</td>\n",
       "      <td>NaN</td>\n",
       "      <td>MACCS_25</td>\n",
       "    </tr>\n",
       "    <tr>\n",
       "      <th>2</th>\n",
       "      <td>6328608</td>\n",
       "      <td>ABACAVIR</td>\n",
       "      <td>NaN</td>\n",
       "      <td>MACCS_38</td>\n",
       "    </tr>\n",
       "    <tr>\n",
       "      <th>3</th>\n",
       "      <td>6328608</td>\n",
       "      <td>ABACAVIR</td>\n",
       "      <td>NaN</td>\n",
       "      <td>MACCS_53</td>\n",
       "    </tr>\n",
       "    <tr>\n",
       "      <th>4</th>\n",
       "      <td>6328608</td>\n",
       "      <td>ABACAVIR</td>\n",
       "      <td>NaN</td>\n",
       "      <td>MACCS_62</td>\n",
       "    </tr>\n",
       "  </tbody>\n",
       "</table>\n",
       "</div>"
      ],
      "text/plain": [
       "   Drug ID Drug Name Drug Synonyms Fingerprint\n",
       "0  6328608  ABACAVIR           NaN    MACCS_22\n",
       "1  6328608  ABACAVIR           NaN    MACCS_25\n",
       "2  6328608  ABACAVIR           NaN    MACCS_38\n",
       "3  6328608  ABACAVIR           NaN    MACCS_53\n",
       "4  6328608  ABACAVIR           NaN    MACCS_62"
      ]
     },
     "execution_count": 54,
     "metadata": {},
     "output_type": "execute_result"
    }
   ],
   "source": [
    "DRH_df.head()"
   ]
  },
  {
   "cell_type": "code",
   "execution_count": 60,
   "metadata": {},
   "outputs": [
    {
     "data": {
      "text/plain": [
       "(116400, 4)"
      ]
     },
     "execution_count": 60,
     "metadata": {},
     "output_type": "execute_result"
    }
   ],
   "source": [
    "DRH_df.shape"
   ]
  },
  {
   "cell_type": "markdown",
   "metadata": {},
   "source": [
    "### Approved Drugs"
   ]
  },
  {
   "cell_type": "code",
   "execution_count": 309,
   "metadata": {
    "collapsed": true
   },
   "outputs": [],
   "source": [
    "approved_df = drugbank_df.copy()"
   ]
  },
  {
   "cell_type": "code",
   "execution_count": 310,
   "metadata": {},
   "outputs": [
    {
     "name": "stdout",
     "output_type": "stream",
     "text": [
      "Progress: 100%  116400 Out of 116400   \r"
     ]
    }
   ],
   "source": [
    "didnt_do_anything = 0\n",
    "not_found = 0\n",
    "found_but_different_macc = 0\n",
    "found_same_macc_diff_name = 0\n",
    "\n",
    "for i,index in enumerate(DRH_df.index):\n",
    "    \n",
    "    progressPercent = ((i+1)/len(DRH_df.index))*100\n",
    "\n",
    "    sys.stdout.write(\"Progress: %d%%  %d Out of %d   \\r\" % (progressPercent, (i+1), len(DRH_df.index)))\n",
    "    sys.stdout.flush()\n",
    "    \n",
    "    if DRH_df.loc[index, 'Drug ID'] not in approved_df['Drug ID'].unique():\n",
    "        not_found += 1\n",
    "        approved_df = approved_df.append(DRH_df.loc[index, :], ignore_index=True)\n",
    "    elif DRH_df.loc[index, 'Fingerprint'] not in approved_df[approved_df['Drug ID'] == DRH_df.loc[index, 'Drug ID']]['Fingerprint'].values.tolist():\n",
    "        found_but_different_macc += 1\n",
    "        approved_df = approved_df.append(DRH_df.loc[index, :], ignore_index=True)\n",
    "    elif DRH_df.loc[index, 'Drug Name'] != approved_df[approved_df['Drug ID'] == DRH_df.loc[index, 'Drug ID']]['Drug Name'].tolist()[0] and DRH_df.loc[index, 'Drug Name'] != approved_df[approved_df['Drug ID'] == DRH_df.loc[index, 'Drug ID']]['Drug Synonyms'].tolist()[0].split(':'):\n",
    "        found_same_macc_diff_name += 1 \n",
    "        synonyms = (':').join(list(set([approved_df[approved_df['Drug ID'] == DRH_df.loc[index, 'Drug ID']]['Drug Synonyms'].tolist()[0], DRH_df.loc[index, 'Drug Name']])))\n",
    "        approved_df.loc[approved_df[approved_df['Drug ID'] == DRH_df.loc[index, 'Drug ID']].index, 'Drug Synonyms'] = synonyms\n",
    "    else:\n",
    "        didnt_do_anything += 1"
   ]
  },
  {
   "cell_type": "code",
   "execution_count": 311,
   "metadata": {},
   "outputs": [
    {
     "name": "stdout",
     "output_type": "stream",
     "text": [
      "37502\n",
      "1260\n",
      "57730\n",
      "19908\n"
     ]
    }
   ],
   "source": [
    "print(didnt_do_anything)\n",
    "print(not_found)\n",
    "print(found_but_different_macc)\n",
    "print(found_same_macc_diff_name)"
   ]
  },
  {
   "cell_type": "code",
   "execution_count": 312,
   "metadata": {},
   "outputs": [
    {
     "data": {
      "text/html": [
       "<div>\n",
       "<style scoped>\n",
       "    .dataframe tbody tr th:only-of-type {\n",
       "        vertical-align: middle;\n",
       "    }\n",
       "\n",
       "    .dataframe tbody tr th {\n",
       "        vertical-align: top;\n",
       "    }\n",
       "\n",
       "    .dataframe thead th {\n",
       "        text-align: right;\n",
       "    }\n",
       "</style>\n",
       "<table border=\"1\" class=\"dataframe\">\n",
       "  <thead>\n",
       "    <tr style=\"text-align: right;\">\n",
       "      <th></th>\n",
       "      <th>Drug ID</th>\n",
       "      <th>Drug Name</th>\n",
       "      <th>Drug Synonyms</th>\n",
       "      <th>Fingerprint</th>\n",
       "    </tr>\n",
       "  </thead>\n",
       "  <tbody>\n",
       "    <tr>\n",
       "      <th>0</th>\n",
       "      <td>16129704</td>\n",
       "      <td>BIVALIRUDIN</td>\n",
       "      <td>BIVALIRUDINA:BIVALIRUDINUM:HIRULOG</td>\n",
       "      <td>MACCS_25</td>\n",
       "    </tr>\n",
       "    <tr>\n",
       "      <th>1</th>\n",
       "      <td>16129704</td>\n",
       "      <td>BIVALIRUDIN</td>\n",
       "      <td>BIVALIRUDINA:BIVALIRUDINUM:HIRULOG</td>\n",
       "      <td>MACCS_43</td>\n",
       "    </tr>\n",
       "    <tr>\n",
       "      <th>2</th>\n",
       "      <td>16129704</td>\n",
       "      <td>BIVALIRUDIN</td>\n",
       "      <td>BIVALIRUDINA:BIVALIRUDINUM:HIRULOG</td>\n",
       "      <td>MACCS_53</td>\n",
       "    </tr>\n",
       "    <tr>\n",
       "      <th>3</th>\n",
       "      <td>16129704</td>\n",
       "      <td>BIVALIRUDIN</td>\n",
       "      <td>BIVALIRUDINA:BIVALIRUDINUM:HIRULOG</td>\n",
       "      <td>MACCS_54</td>\n",
       "    </tr>\n",
       "    <tr>\n",
       "      <th>4</th>\n",
       "      <td>16129704</td>\n",
       "      <td>BIVALIRUDIN</td>\n",
       "      <td>BIVALIRUDINA:BIVALIRUDINUM:HIRULOG</td>\n",
       "      <td>MACCS_74</td>\n",
       "    </tr>\n",
       "  </tbody>\n",
       "</table>\n",
       "</div>"
      ],
      "text/plain": [
       "    Drug ID    Drug Name                       Drug Synonyms Fingerprint\n",
       "0  16129704  BIVALIRUDIN  BIVALIRUDINA:BIVALIRUDINUM:HIRULOG    MACCS_25\n",
       "1  16129704  BIVALIRUDIN  BIVALIRUDINA:BIVALIRUDINUM:HIRULOG    MACCS_43\n",
       "2  16129704  BIVALIRUDIN  BIVALIRUDINA:BIVALIRUDINUM:HIRULOG    MACCS_53\n",
       "3  16129704  BIVALIRUDIN  BIVALIRUDINA:BIVALIRUDINUM:HIRULOG    MACCS_54\n",
       "4  16129704  BIVALIRUDIN  BIVALIRUDINA:BIVALIRUDINUM:HIRULOG    MACCS_74"
      ]
     },
     "execution_count": 312,
     "metadata": {},
     "output_type": "execute_result"
    }
   ],
   "source": [
    "approved_df.head()"
   ]
  },
  {
   "cell_type": "code",
   "execution_count": 313,
   "metadata": {},
   "outputs": [
    {
     "data": {
      "text/plain": [
       "(163625, 4)"
      ]
     },
     "execution_count": 313,
     "metadata": {},
     "output_type": "execute_result"
    }
   ],
   "source": [
    "approved_df.shape"
   ]
  },
  {
   "cell_type": "code",
   "execution_count": 319,
   "metadata": {},
   "outputs": [
    {
     "name": "stdout",
     "output_type": "stream",
     "text": [
      "104635\n",
      "116400\n",
      "163755\n",
      "221035\n"
     ]
    }
   ],
   "source": [
    "print(len(drugbank_df['Drug ID']))\n",
    "print(len(DRH_df['Drug ID']))\n",
    "print(len(approved_df['Drug ID']))\n",
    "print(len(drugbank_df['Drug ID'])+len(DRH_df['Drug ID']))"
   ]
  },
  {
   "cell_type": "code",
   "execution_count": 330,
   "metadata": {},
   "outputs": [
    {
     "name": "stdout",
     "output_type": "stream",
     "text": [
      "Progress: 100%  388586 Out of 388586   \r"
     ]
    }
   ],
   "source": [
    "didnt_do_anything = 0\n",
    "not_found = 0\n",
    "found_but_different_macc = 0\n",
    "found_same_macc_diff_name = 0\n",
    "\n",
    "for i,index in enumerate(drugcentral_df.index):\n",
    "    \n",
    "    progressPercent = ((i+1)/len(drugcentral_df.index))*100\n",
    "\n",
    "    sys.stdout.write(\"Progress: %d%%  %d Out of %d   \\r\" % (progressPercent, (i+1), len(drugcentral_df.index)))\n",
    "    sys.stdout.flush()\n",
    "    \n",
    "    names = drugcentral_df.loc[index, 'Drug Synonyms'].split(':')\n",
    "    names.insert(0, drugcentral_df.loc[index, 'Drug Name'])\n",
    "    \n",
    "    if drugcentral_df.loc[index, 'Drug ID'] not in approved_df['Drug ID'].unique():\n",
    "        not_found += 1\n",
    "        approved_df = approved_df.append(drugcentral_df.loc[index, :], ignore_index=True)\n",
    "    elif drugcentral_df.loc[index, 'Fingerprint'] not in approved_df[approved_df['Drug ID'] == drugcentral_df.loc[index, 'Drug ID']]['Fingerprint'].values.tolist():\n",
    "        found_but_different_macc += 1\n",
    "        approved_df = approved_df.append(drugcentral_df.loc[index, :], ignore_index=True)\n",
    "    else:\n",
    "        for name in names:\n",
    "            if type(approved_df[approved_df['Drug ID'] == drugcentral_df.loc[index, 'Drug ID']]['Drug Synonyms'].tolist()[0]) != float:\n",
    "                if name == names[-1] and name != approved_df[approved_df['Drug ID'] == drugcentral_df.loc[index, 'Drug ID']]['Drug Name'].tolist()[0] and name != drugcentral_df.loc[index, 'Drug Name'] != approved_df[approved_df['Drug ID'] == drugcentral_df.loc[index, 'Drug ID']]['Drug Synonyms'].tolist()[0].split(':'):\n",
    "                    found_same_macc_diff_name += 1 \n",
    "                    synonyms = (':').join(list(set(approved_df[approved_df['Drug ID'] == drugcentral_df.loc[index, 'Drug ID']]['Drug Synonyms'].tolist()[0].split(':')+names)))\n",
    "                    approved_df.loc[approved_df[approved_df['Drug ID'] == drugcentral_df.loc[index, 'Drug ID']].index, 'Drug Synonyms'] = synonyms\n",
    "            elif name == names[-1] and name != approved_df[approved_df['Drug ID'] == drugcentral_df.loc[index, 'Drug ID']]['Drug Name'].tolist()[0]:\n",
    "                    found_same_macc_diff_name += 1\n",
    "                    synonyms = (':').join(list(set(names)))\n",
    "                    approved_df.loc[approved_df[approved_df['Drug ID'] == drugcentral_df.loc[index, 'Drug ID']].index, 'Drug Synonyms'] = synonyms\n",
    "            else:\n",
    "                didnt_do_anything += 1"
   ]
  },
  {
   "cell_type": "code",
   "execution_count": 331,
   "metadata": {},
   "outputs": [
    {
     "name": "stdout",
     "output_type": "stream",
     "text": [
      "952\n",
      "1198\n",
      "56067\n",
      "322595\n"
     ]
    }
   ],
   "source": [
    "print(didnt_do_anything)\n",
    "print(not_found)\n",
    "print(found_but_different_macc)\n",
    "print(found_same_macc_diff_name)"
   ]
  },
  {
   "cell_type": "code",
   "execution_count": 332,
   "metadata": {},
   "outputs": [
    {
     "data": {
      "text/html": [
       "<div>\n",
       "<style scoped>\n",
       "    .dataframe tbody tr th:only-of-type {\n",
       "        vertical-align: middle;\n",
       "    }\n",
       "\n",
       "    .dataframe tbody tr th {\n",
       "        vertical-align: top;\n",
       "    }\n",
       "\n",
       "    .dataframe thead th {\n",
       "        text-align: right;\n",
       "    }\n",
       "</style>\n",
       "<table border=\"1\" class=\"dataframe\">\n",
       "  <thead>\n",
       "    <tr style=\"text-align: right;\">\n",
       "      <th></th>\n",
       "      <th>Drug ID</th>\n",
       "      <th>Drug Name</th>\n",
       "      <th>Drug Synonyms</th>\n",
       "      <th>Fingerprint</th>\n",
       "    </tr>\n",
       "  </thead>\n",
       "  <tbody>\n",
       "    <tr>\n",
       "      <th>0</th>\n",
       "      <td>16129665</td>\n",
       "      <td>SECREFLO</td>\n",
       "      <td>SECRETIN PORCINE:SECRETIN SYNTHETIC PORCINE</td>\n",
       "      <td>MACCS_25</td>\n",
       "    </tr>\n",
       "    <tr>\n",
       "      <th>1</th>\n",
       "      <td>16129665</td>\n",
       "      <td>SECREFLO</td>\n",
       "      <td>SECRETIN PORCINE:SECRETIN SYNTHETIC PORCINE</td>\n",
       "      <td>MACCS_43</td>\n",
       "    </tr>\n",
       "    <tr>\n",
       "      <th>2</th>\n",
       "      <td>16129665</td>\n",
       "      <td>SECREFLO</td>\n",
       "      <td>SECRETIN PORCINE:SECRETIN SYNTHETIC PORCINE</td>\n",
       "      <td>MACCS_53</td>\n",
       "    </tr>\n",
       "    <tr>\n",
       "      <th>3</th>\n",
       "      <td>16129665</td>\n",
       "      <td>SECREFLO</td>\n",
       "      <td>SECRETIN PORCINE:SECRETIN SYNTHETIC PORCINE</td>\n",
       "      <td>MACCS_54</td>\n",
       "    </tr>\n",
       "    <tr>\n",
       "      <th>4</th>\n",
       "      <td>16129665</td>\n",
       "      <td>SECREFLO</td>\n",
       "      <td>SECRETIN PORCINE:SECRETIN SYNTHETIC PORCINE</td>\n",
       "      <td>MACCS_65</td>\n",
       "    </tr>\n",
       "  </tbody>\n",
       "</table>\n",
       "</div>"
      ],
      "text/plain": [
       "    Drug ID Drug Name                                Drug Synonyms Fingerprint\n",
       "0  16129665  SECREFLO  SECRETIN PORCINE:SECRETIN SYNTHETIC PORCINE    MACCS_25\n",
       "1  16129665  SECREFLO  SECRETIN PORCINE:SECRETIN SYNTHETIC PORCINE    MACCS_43\n",
       "2  16129665  SECREFLO  SECRETIN PORCINE:SECRETIN SYNTHETIC PORCINE    MACCS_53\n",
       "3  16129665  SECREFLO  SECRETIN PORCINE:SECRETIN SYNTHETIC PORCINE    MACCS_54\n",
       "4  16129665  SECREFLO  SECRETIN PORCINE:SECRETIN SYNTHETIC PORCINE    MACCS_65"
      ]
     },
     "execution_count": 332,
     "metadata": {},
     "output_type": "execute_result"
    }
   ],
   "source": [
    "drugcentral_df.head()"
   ]
  },
  {
   "cell_type": "code",
   "execution_count": 333,
   "metadata": {},
   "outputs": [
    {
     "data": {
      "text/html": [
       "<div>\n",
       "<style scoped>\n",
       "    .dataframe tbody tr th:only-of-type {\n",
       "        vertical-align: middle;\n",
       "    }\n",
       "\n",
       "    .dataframe tbody tr th {\n",
       "        vertical-align: top;\n",
       "    }\n",
       "\n",
       "    .dataframe thead th {\n",
       "        text-align: right;\n",
       "    }\n",
       "</style>\n",
       "<table border=\"1\" class=\"dataframe\">\n",
       "  <thead>\n",
       "    <tr style=\"text-align: right;\">\n",
       "      <th></th>\n",
       "      <th>Drug ID</th>\n",
       "      <th>Drug Name</th>\n",
       "      <th>Drug Synonyms</th>\n",
       "      <th>Fingerprint</th>\n",
       "    </tr>\n",
       "  </thead>\n",
       "  <tbody>\n",
       "    <tr>\n",
       "      <th>0</th>\n",
       "      <td>16129704</td>\n",
       "      <td>BIVALIRUDIN</td>\n",
       "      <td>ANGIOMAX:ANGIOX:HIRULOG:BIVALIRUDIN:BIVALIRUDI...</td>\n",
       "      <td>MACCS_25</td>\n",
       "    </tr>\n",
       "    <tr>\n",
       "      <th>1</th>\n",
       "      <td>16129704</td>\n",
       "      <td>BIVALIRUDIN</td>\n",
       "      <td>ANGIOMAX:ANGIOX:HIRULOG:BIVALIRUDIN:BIVALIRUDI...</td>\n",
       "      <td>MACCS_43</td>\n",
       "    </tr>\n",
       "    <tr>\n",
       "      <th>2</th>\n",
       "      <td>16129704</td>\n",
       "      <td>BIVALIRUDIN</td>\n",
       "      <td>ANGIOMAX:ANGIOX:HIRULOG:BIVALIRUDIN:BIVALIRUDI...</td>\n",
       "      <td>MACCS_53</td>\n",
       "    </tr>\n",
       "    <tr>\n",
       "      <th>3</th>\n",
       "      <td>16129704</td>\n",
       "      <td>BIVALIRUDIN</td>\n",
       "      <td>ANGIOMAX:ANGIOX:HIRULOG:BIVALIRUDIN:BIVALIRUDI...</td>\n",
       "      <td>MACCS_54</td>\n",
       "    </tr>\n",
       "    <tr>\n",
       "      <th>4</th>\n",
       "      <td>16129704</td>\n",
       "      <td>BIVALIRUDIN</td>\n",
       "      <td>ANGIOMAX:ANGIOX:HIRULOG:BIVALIRUDIN:BIVALIRUDI...</td>\n",
       "      <td>MACCS_74</td>\n",
       "    </tr>\n",
       "  </tbody>\n",
       "</table>\n",
       "</div>"
      ],
      "text/plain": [
       "    Drug ID    Drug Name                                      Drug Synonyms  \\\n",
       "0  16129704  BIVALIRUDIN  ANGIOMAX:ANGIOX:HIRULOG:BIVALIRUDIN:BIVALIRUDI...   \n",
       "1  16129704  BIVALIRUDIN  ANGIOMAX:ANGIOX:HIRULOG:BIVALIRUDIN:BIVALIRUDI...   \n",
       "2  16129704  BIVALIRUDIN  ANGIOMAX:ANGIOX:HIRULOG:BIVALIRUDIN:BIVALIRUDI...   \n",
       "3  16129704  BIVALIRUDIN  ANGIOMAX:ANGIOX:HIRULOG:BIVALIRUDIN:BIVALIRUDI...   \n",
       "4  16129704  BIVALIRUDIN  ANGIOMAX:ANGIOX:HIRULOG:BIVALIRUDIN:BIVALIRUDI...   \n",
       "\n",
       "  Fingerprint  \n",
       "0    MACCS_25  \n",
       "1    MACCS_43  \n",
       "2    MACCS_53  \n",
       "3    MACCS_54  \n",
       "4    MACCS_74  "
      ]
     },
     "execution_count": 333,
     "metadata": {},
     "output_type": "execute_result"
    }
   ],
   "source": [
    "approved_df.head()"
   ]
  },
  {
   "cell_type": "code",
   "execution_count": 334,
   "metadata": {},
   "outputs": [
    {
     "data": {
      "text/plain": [
       "(222356, 4)"
      ]
     },
     "execution_count": 334,
     "metadata": {},
     "output_type": "execute_result"
    }
   ],
   "source": [
    "approved_df.shape"
   ]
  },
  {
   "cell_type": "code",
   "execution_count": 337,
   "metadata": {},
   "outputs": [],
   "source": [
    "approved_df.to_csv('Output/approved_df.tsv', sep='\\t')\n",
    "\n",
    "# filename = path+'approved_df_%s.tsv.zip'% str(datetime.date.today())[0:7].replace('-', '_')\n",
    "# approved_df.to_csv(filename, sep='\\t', compression='gzip')"
   ]
  },
  {
   "cell_type": "markdown",
   "metadata": {},
   "source": [
    "# Create Binary Matrix"
   ]
  },
  {
   "cell_type": "code",
   "execution_count": 344,
   "metadata": {},
   "outputs": [
    {
     "name": "stdout",
     "output_type": "stream",
     "text": [
      "Progeres: 100%  163 Out of 163   \r"
     ]
    }
   ],
   "source": [
    "matrix = uf.createBinaryMatrix(approved_df[['Fingerprint', 'Drug ID']])"
   ]
  },
  {
   "cell_type": "code",
   "execution_count": 345,
   "metadata": {},
   "outputs": [
    {
     "data": {
      "text/html": [
       "<div>\n",
       "<style scoped>\n",
       "    .dataframe tbody tr th:only-of-type {\n",
       "        vertical-align: middle;\n",
       "    }\n",
       "\n",
       "    .dataframe tbody tr th {\n",
       "        vertical-align: top;\n",
       "    }\n",
       "\n",
       "    .dataframe thead th {\n",
       "        text-align: right;\n",
       "    }\n",
       "</style>\n",
       "<table border=\"1\" class=\"dataframe\">\n",
       "  <thead>\n",
       "    <tr style=\"text-align: right;\">\n",
       "      <th></th>\n",
       "      <th>1</th>\n",
       "      <th>5488645</th>\n",
       "      <th>5464070</th>\n",
       "      <th>16220172</th>\n",
       "      <th>40973</th>\n",
       "      <th>15581198</th>\n",
       "      <th>9871375</th>\n",
       "      <th>40976</th>\n",
       "      <th>57363</th>\n",
       "      <th>213013</th>\n",
       "      <th>...</th>\n",
       "      <th>9887712</th>\n",
       "      <th>16351</th>\n",
       "      <th>44629987</th>\n",
       "      <th>101826531</th>\n",
       "      <th>24550</th>\n",
       "      <th>442343</th>\n",
       "      <th>16362</th>\n",
       "      <th>16363</th>\n",
       "      <th>53239799</th>\n",
       "      <th>114682</th>\n",
       "    </tr>\n",
       "  </thead>\n",
       "  <tbody>\n",
       "    <tr>\n",
       "      <th>MACCS_139</th>\n",
       "      <td>0</td>\n",
       "      <td>1</td>\n",
       "      <td>1</td>\n",
       "      <td>1</td>\n",
       "      <td>1</td>\n",
       "      <td>1</td>\n",
       "      <td>1</td>\n",
       "      <td>1</td>\n",
       "      <td>0</td>\n",
       "      <td>0</td>\n",
       "      <td>...</td>\n",
       "      <td>1</td>\n",
       "      <td>0</td>\n",
       "      <td>1</td>\n",
       "      <td>1</td>\n",
       "      <td>0</td>\n",
       "      <td>1</td>\n",
       "      <td>0</td>\n",
       "      <td>1</td>\n",
       "      <td>0</td>\n",
       "      <td>1</td>\n",
       "    </tr>\n",
       "    <tr>\n",
       "      <th>MACCS_25</th>\n",
       "      <td>0</td>\n",
       "      <td>0</td>\n",
       "      <td>0</td>\n",
       "      <td>0</td>\n",
       "      <td>0</td>\n",
       "      <td>0</td>\n",
       "      <td>0</td>\n",
       "      <td>0</td>\n",
       "      <td>0</td>\n",
       "      <td>0</td>\n",
       "      <td>...</td>\n",
       "      <td>0</td>\n",
       "      <td>0</td>\n",
       "      <td>0</td>\n",
       "      <td>0</td>\n",
       "      <td>0</td>\n",
       "      <td>0</td>\n",
       "      <td>0</td>\n",
       "      <td>0</td>\n",
       "      <td>0</td>\n",
       "      <td>0</td>\n",
       "    </tr>\n",
       "    <tr>\n",
       "      <th>MACCS_50</th>\n",
       "      <td>0</td>\n",
       "      <td>1</td>\n",
       "      <td>0</td>\n",
       "      <td>0</td>\n",
       "      <td>1</td>\n",
       "      <td>0</td>\n",
       "      <td>1</td>\n",
       "      <td>1</td>\n",
       "      <td>0</td>\n",
       "      <td>0</td>\n",
       "      <td>...</td>\n",
       "      <td>0</td>\n",
       "      <td>0</td>\n",
       "      <td>0</td>\n",
       "      <td>0</td>\n",
       "      <td>0</td>\n",
       "      <td>1</td>\n",
       "      <td>0</td>\n",
       "      <td>0</td>\n",
       "      <td>0</td>\n",
       "      <td>0</td>\n",
       "    </tr>\n",
       "    <tr>\n",
       "      <th>MACCS_78</th>\n",
       "      <td>0</td>\n",
       "      <td>0</td>\n",
       "      <td>1</td>\n",
       "      <td>0</td>\n",
       "      <td>0</td>\n",
       "      <td>0</td>\n",
       "      <td>0</td>\n",
       "      <td>0</td>\n",
       "      <td>0</td>\n",
       "      <td>0</td>\n",
       "      <td>...</td>\n",
       "      <td>0</td>\n",
       "      <td>1</td>\n",
       "      <td>0</td>\n",
       "      <td>0</td>\n",
       "      <td>0</td>\n",
       "      <td>0</td>\n",
       "      <td>0</td>\n",
       "      <td>0</td>\n",
       "      <td>0</td>\n",
       "      <td>0</td>\n",
       "    </tr>\n",
       "    <tr>\n",
       "      <th>MACCS_33</th>\n",
       "      <td>0</td>\n",
       "      <td>0</td>\n",
       "      <td>0</td>\n",
       "      <td>0</td>\n",
       "      <td>0</td>\n",
       "      <td>0</td>\n",
       "      <td>0</td>\n",
       "      <td>0</td>\n",
       "      <td>0</td>\n",
       "      <td>0</td>\n",
       "      <td>...</td>\n",
       "      <td>0</td>\n",
       "      <td>0</td>\n",
       "      <td>0</td>\n",
       "      <td>0</td>\n",
       "      <td>0</td>\n",
       "      <td>0</td>\n",
       "      <td>0</td>\n",
       "      <td>0</td>\n",
       "      <td>0</td>\n",
       "      <td>0</td>\n",
       "    </tr>\n",
       "  </tbody>\n",
       "</table>\n",
       "<p>5 rows × 4895 columns</p>\n",
       "</div>"
      ],
      "text/plain": [
       "           1          5488645    5464070    16220172   40973      15581198   \\\n",
       "MACCS_139          0          1          1          1          1          1   \n",
       "MACCS_25           0          0          0          0          0          0   \n",
       "MACCS_50           0          1          0          0          1          0   \n",
       "MACCS_78           0          0          1          0          0          0   \n",
       "MACCS_33           0          0          0          0          0          0   \n",
       "\n",
       "           9871375    40976      57363      213013       ...      9887712    \\\n",
       "MACCS_139          1          1          0          0    ...              1   \n",
       "MACCS_25           0          0          0          0    ...              0   \n",
       "MACCS_50           1          1          0          0    ...              0   \n",
       "MACCS_78           0          0          0          0    ...              0   \n",
       "MACCS_33           0          0          0          0    ...              0   \n",
       "\n",
       "           16351      44629987   101826531  24550      442343     16362      \\\n",
       "MACCS_139          0          1          1          0          1          0   \n",
       "MACCS_25           0          0          0          0          0          0   \n",
       "MACCS_50           0          0          0          0          1          0   \n",
       "MACCS_78           1          0          0          0          0          0   \n",
       "MACCS_33           0          0          0          0          0          0   \n",
       "\n",
       "           16363      53239799   114682     \n",
       "MACCS_139          1          0          1  \n",
       "MACCS_25           0          0          0  \n",
       "MACCS_50           0          0          0  \n",
       "MACCS_78           0          0          0  \n",
       "MACCS_33           0          0          0  \n",
       "\n",
       "[5 rows x 4895 columns]"
      ]
     },
     "execution_count": 345,
     "metadata": {},
     "output_type": "execute_result"
    }
   ],
   "source": [
    "matrix.head()"
   ]
  },
  {
   "cell_type": "code",
   "execution_count": 346,
   "metadata": {},
   "outputs": [
    {
     "data": {
      "text/plain": [
       "(163, 4895)"
      ]
     },
     "execution_count": 346,
     "metadata": {},
     "output_type": "execute_result"
    }
   ],
   "source": [
    "matrix.shape"
   ]
  },
  {
   "cell_type": "markdown",
   "metadata": {},
   "source": [
    "# Save Binary Matrix to File"
   ]
  },
  {
   "cell_type": "code",
   "execution_count": 347,
   "metadata": {
    "collapsed": true
   },
   "outputs": [],
   "source": [
    "filename = path+'approved_maccs_binary_matix_%s.tsv.zip'% str(datetime.date.today())[0:7].replace('-', '_')\n",
    "matrix.to_csv(filename, sep='\\t', compression='gzip')"
   ]
  },
  {
   "cell_type": "markdown",
   "metadata": {},
   "source": [
    "# Create Fingerprint List"
   ]
  },
  {
   "cell_type": "code",
   "execution_count": 348,
   "metadata": {
    "collapsed": true
   },
   "outputs": [],
   "source": [
    "fingerprint_list = pd.DataFrame(columns=['Fingerprint (MACCS KEY)'],data = matrix.index.values.tolist())"
   ]
  },
  {
   "cell_type": "code",
   "execution_count": 349,
   "metadata": {},
   "outputs": [
    {
     "data": {
      "text/html": [
       "<div>\n",
       "<style scoped>\n",
       "    .dataframe tbody tr th:only-of-type {\n",
       "        vertical-align: middle;\n",
       "    }\n",
       "\n",
       "    .dataframe tbody tr th {\n",
       "        vertical-align: top;\n",
       "    }\n",
       "\n",
       "    .dataframe thead th {\n",
       "        text-align: right;\n",
       "    }\n",
       "</style>\n",
       "<table border=\"1\" class=\"dataframe\">\n",
       "  <thead>\n",
       "    <tr style=\"text-align: right;\">\n",
       "      <th></th>\n",
       "      <th>Fingerprint (MACCS KEY)</th>\n",
       "    </tr>\n",
       "  </thead>\n",
       "  <tbody>\n",
       "    <tr>\n",
       "      <th>0</th>\n",
       "      <td>MACCS_139</td>\n",
       "    </tr>\n",
       "    <tr>\n",
       "      <th>1</th>\n",
       "      <td>MACCS_25</td>\n",
       "    </tr>\n",
       "    <tr>\n",
       "      <th>2</th>\n",
       "      <td>MACCS_50</td>\n",
       "    </tr>\n",
       "    <tr>\n",
       "      <th>3</th>\n",
       "      <td>MACCS_78</td>\n",
       "    </tr>\n",
       "    <tr>\n",
       "      <th>4</th>\n",
       "      <td>MACCS_33</td>\n",
       "    </tr>\n",
       "  </tbody>\n",
       "</table>\n",
       "</div>"
      ],
      "text/plain": [
       "  Fingerprint (MACCS KEY)\n",
       "0               MACCS_139\n",
       "1                MACCS_25\n",
       "2                MACCS_50\n",
       "3                MACCS_78\n",
       "4                MACCS_33"
      ]
     },
     "execution_count": 349,
     "metadata": {},
     "output_type": "execute_result"
    }
   ],
   "source": [
    "fingerprint_list.head()"
   ]
  },
  {
   "cell_type": "markdown",
   "metadata": {},
   "source": [
    "# Save Fingerprint to File"
   ]
  },
  {
   "cell_type": "code",
   "execution_count": 350,
   "metadata": {
    "collapsed": true
   },
   "outputs": [],
   "source": [
    "filename = path+'approved_maccs_fingerprint_list_%s.tsv.zip'% str(datetime.date.today())[0:7].replace('-', '_')\n",
    "fingerprint_list.to_csv(filename, sep='\\t', index=False, compression='gzip')"
   ]
  },
  {
   "cell_type": "markdown",
   "metadata": {},
   "source": [
    "# Create Drug List"
   ]
  },
  {
   "cell_type": "code",
   "execution_count": 351,
   "metadata": {
    "collapsed": true
   },
   "outputs": [],
   "source": [
    "metaData = approved_df[['Drug ID', 'Drug Name', 'Drug Synonyms']]"
   ]
  },
  {
   "cell_type": "code",
   "execution_count": 352,
   "metadata": {},
   "outputs": [
    {
     "name": "stderr",
     "output_type": "stream",
     "text": [
      "/Users/moshesilverstein/anaconda/lib/python3.5/site-packages/ipykernel/__main__.py:1: SettingWithCopyWarning: \n",
      "A value is trying to be set on a copy of a slice from a DataFrame\n",
      "\n",
      "See the caveats in the documentation: http://pandas.pydata.org/pandas-docs/stable/indexing.html#indexing-view-versus-copy\n",
      "  if __name__ == '__main__':\n"
     ]
    }
   ],
   "source": [
    "metaData.drop_duplicates(subset='Drug ID', inplace=True)"
   ]
  },
  {
   "cell_type": "code",
   "execution_count": 353,
   "metadata": {
    "collapsed": true
   },
   "outputs": [],
   "source": [
    "metaData.set_index('Drug ID', inplace=True)"
   ]
  },
  {
   "cell_type": "code",
   "execution_count": 354,
   "metadata": {},
   "outputs": [
    {
     "data": {
      "text/html": [
       "<div>\n",
       "<style scoped>\n",
       "    .dataframe tbody tr th:only-of-type {\n",
       "        vertical-align: middle;\n",
       "    }\n",
       "\n",
       "    .dataframe tbody tr th {\n",
       "        vertical-align: top;\n",
       "    }\n",
       "\n",
       "    .dataframe thead th {\n",
       "        text-align: right;\n",
       "    }\n",
       "</style>\n",
       "<table border=\"1\" class=\"dataframe\">\n",
       "  <thead>\n",
       "    <tr style=\"text-align: right;\">\n",
       "      <th></th>\n",
       "      <th>Drug Name</th>\n",
       "      <th>Drug Synonyms</th>\n",
       "    </tr>\n",
       "    <tr>\n",
       "      <th>Drug ID</th>\n",
       "      <th></th>\n",
       "      <th></th>\n",
       "    </tr>\n",
       "  </thead>\n",
       "  <tbody>\n",
       "    <tr>\n",
       "      <th>16129704</th>\n",
       "      <td>BIVALIRUDIN</td>\n",
       "      <td>ANGIOMAX:ANGIOX:HIRULOG:BIVALIRUDIN:BIVALIRUDI...</td>\n",
       "    </tr>\n",
       "    <tr>\n",
       "      <th>5311128</th>\n",
       "      <td>BIVALIRUDIN</td>\n",
       "      <td>HIRULOG:BIVALIRUDINA:DECAPEPTIDE I:ZOLADEX:GOS...</td>\n",
       "    </tr>\n",
       "    <tr>\n",
       "      <th>16130140</th>\n",
       "      <td>GRAMICIDIN D</td>\n",
       "      <td>BACILLUSBREVISGRAMICIDIND:GRAMICIDIN:GRAMICIDI...</td>\n",
       "    </tr>\n",
       "    <tr>\n",
       "      <th>5311065</th>\n",
       "      <td>DESMOPRESSIN</td>\n",
       "      <td>DESMOPRESSIN:DESMOPRESSIN ACETATE:MINIRINMELT:...</td>\n",
       "    </tr>\n",
       "    <tr>\n",
       "      <th>27991</th>\n",
       "      <td>DESMOPRESSIN</td>\n",
       "      <td>DESMOPRESSIN:DESMOPRESSIN ACETATE:MINIRINMELT:...</td>\n",
       "    </tr>\n",
       "  </tbody>\n",
       "</table>\n",
       "</div>"
      ],
      "text/plain": [
       "             Drug Name                                      Drug Synonyms\n",
       "Drug ID                                                                  \n",
       "16129704   BIVALIRUDIN  ANGIOMAX:ANGIOX:HIRULOG:BIVALIRUDIN:BIVALIRUDI...\n",
       "5311128    BIVALIRUDIN  HIRULOG:BIVALIRUDINA:DECAPEPTIDE I:ZOLADEX:GOS...\n",
       "16130140  GRAMICIDIN D  BACILLUSBREVISGRAMICIDIND:GRAMICIDIN:GRAMICIDI...\n",
       "5311065   DESMOPRESSIN  DESMOPRESSIN:DESMOPRESSIN ACETATE:MINIRINMELT:...\n",
       "27991     DESMOPRESSIN  DESMOPRESSIN:DESMOPRESSIN ACETATE:MINIRINMELT:..."
      ]
     },
     "execution_count": 354,
     "metadata": {},
     "output_type": "execute_result"
    }
   ],
   "source": [
    "metaData.head()"
   ]
  },
  {
   "cell_type": "code",
   "execution_count": 355,
   "metadata": {},
   "outputs": [
    {
     "name": "stdout",
     "output_type": "stream",
     "text": [
      "Progeres: 100%  4895 Out of 4895   \r"
     ]
    }
   ],
   "source": [
    "drug_list = uf.createAttributeList(matrix, metaData)"
   ]
  },
  {
   "cell_type": "code",
   "execution_count": 356,
   "metadata": {},
   "outputs": [
    {
     "data": {
      "text/html": [
       "<div>\n",
       "<style scoped>\n",
       "    .dataframe tbody tr th:only-of-type {\n",
       "        vertical-align: middle;\n",
       "    }\n",
       "\n",
       "    .dataframe tbody tr th {\n",
       "        vertical-align: top;\n",
       "    }\n",
       "\n",
       "    .dataframe thead th {\n",
       "        text-align: right;\n",
       "    }\n",
       "</style>\n",
       "<table border=\"1\" class=\"dataframe\">\n",
       "  <thead>\n",
       "    <tr style=\"text-align: right;\">\n",
       "      <th></th>\n",
       "      <th>Drug Name</th>\n",
       "      <th>Drug Synonyms</th>\n",
       "    </tr>\n",
       "    <tr>\n",
       "      <th>Attributes</th>\n",
       "      <th></th>\n",
       "      <th></th>\n",
       "    </tr>\n",
       "  </thead>\n",
       "  <tbody>\n",
       "    <tr>\n",
       "      <th>1</th>\n",
       "      <td>ACETYLCARNITINE</td>\n",
       "      <td>ACETYL-L-CARNITINE:O-ACETYL-L-CARNITINE</td>\n",
       "    </tr>\n",
       "    <tr>\n",
       "      <th>5488645</th>\n",
       "      <td>LATAMOXEF</td>\n",
       "      <td>NaN</td>\n",
       "    </tr>\n",
       "    <tr>\n",
       "      <th>5464070</th>\n",
       "      <td>PRALIDOXIME</td>\n",
       "      <td>PRALIDOXIME IODIDE:PRALIDOXIME:2-PAM:PRALIDOXI...</td>\n",
       "    </tr>\n",
       "    <tr>\n",
       "      <th>16220172</th>\n",
       "      <td>IVACAFTOR</td>\n",
       "      <td>N-(2,4-DI-TERT-BUTYL-5-HYDROXYPHENYL)-4-OXO-1,...</td>\n",
       "    </tr>\n",
       "    <tr>\n",
       "      <th>40973</th>\n",
       "      <td>DESOGESTREL</td>\n",
       "      <td>DESOGESTRELUM:ORG 2969:CERAZETTE:DESOGESTREL</td>\n",
       "    </tr>\n",
       "  </tbody>\n",
       "</table>\n",
       "</div>"
      ],
      "text/plain": [
       "                  Drug Name                                      Drug Synonyms\n",
       "Attributes                                                                    \n",
       "1           ACETYLCARNITINE            ACETYL-L-CARNITINE:O-ACETYL-L-CARNITINE\n",
       "5488645           LATAMOXEF                                                NaN\n",
       "5464070         PRALIDOXIME  PRALIDOXIME IODIDE:PRALIDOXIME:2-PAM:PRALIDOXI...\n",
       "16220172          IVACAFTOR  N-(2,4-DI-TERT-BUTYL-5-HYDROXYPHENYL)-4-OXO-1,...\n",
       "40973           DESOGESTREL       DESOGESTRELUM:ORG 2969:CERAZETTE:DESOGESTREL"
      ]
     },
     "execution_count": 356,
     "metadata": {},
     "output_type": "execute_result"
    }
   ],
   "source": [
    "drug_list.head()"
   ]
  },
  {
   "cell_type": "code",
   "execution_count": 357,
   "metadata": {},
   "outputs": [
    {
     "data": {
      "text/plain": [
       "(4895, 2)"
      ]
     },
     "execution_count": 357,
     "metadata": {},
     "output_type": "execute_result"
    }
   ],
   "source": [
    "drug_list.shape"
   ]
  },
  {
   "cell_type": "markdown",
   "metadata": {},
   "source": [
    "# Save Drug List to File"
   ]
  },
  {
   "cell_type": "code",
   "execution_count": 358,
   "metadata": {
    "collapsed": true
   },
   "outputs": [],
   "source": [
    "filename = path+'approved_maccs_drug_list_%s.tsv.zip'% str(datetime.date.today())[0:7].replace('-', '_')\n",
    "drug_list.to_csv(filename, sep='\\t', compression='gzip')"
   ]
  },
  {
   "cell_type": "markdown",
   "metadata": {},
   "source": [
    "# Create Fingerprint Set Library"
   ]
  },
  {
   "cell_type": "code",
   "execution_count": 359,
   "metadata": {
    "collapsed": true
   },
   "outputs": [],
   "source": [
    "name = 'approved_maccs_fingerprint_set'"
   ]
  },
  {
   "cell_type": "code",
   "execution_count": 360,
   "metadata": {},
   "outputs": [
    {
     "name": "stdout",
     "output_type": "stream",
     "text": [
      "Progeres: 100%  4895 Out of 4895   \r"
     ]
    }
   ],
   "source": [
    "uf.createUpGeneSetLib(matrix, path, name)"
   ]
  },
  {
   "cell_type": "markdown",
   "metadata": {},
   "source": [
    "# Create Drug Set Library"
   ]
  },
  {
   "cell_type": "code",
   "execution_count": 361,
   "metadata": {
    "collapsed": true
   },
   "outputs": [],
   "source": [
    "name = 'approved_maccs_drug_set'"
   ]
  },
  {
   "cell_type": "code",
   "execution_count": 362,
   "metadata": {},
   "outputs": [
    {
     "name": "stdout",
     "output_type": "stream",
     "text": [
      "Progeres: 100%  163 Out of 163   \r"
     ]
    }
   ],
   "source": [
    "uf.createUpAttributeSetLib(matrix, path, name)"
   ]
  },
  {
   "cell_type": "markdown",
   "metadata": {},
   "source": [
    "# Create Fingerprint Similarity Matrix"
   ]
  },
  {
   "cell_type": "code",
   "execution_count": 363,
   "metadata": {
    "collapsed": true
   },
   "outputs": [],
   "source": [
    "fingerprint_similarity_matix = uf.createSimilarityMatrix(matrix, 'jaccard')"
   ]
  },
  {
   "cell_type": "code",
   "execution_count": 364,
   "metadata": {},
   "outputs": [
    {
     "data": {
      "text/html": [
       "<div>\n",
       "<style scoped>\n",
       "    .dataframe tbody tr th:only-of-type {\n",
       "        vertical-align: middle;\n",
       "    }\n",
       "\n",
       "    .dataframe tbody tr th {\n",
       "        vertical-align: top;\n",
       "    }\n",
       "\n",
       "    .dataframe thead th {\n",
       "        text-align: right;\n",
       "    }\n",
       "</style>\n",
       "<table border=\"1\" class=\"dataframe\">\n",
       "  <thead>\n",
       "    <tr style=\"text-align: right;\">\n",
       "      <th></th>\n",
       "      <th>MACCS_139</th>\n",
       "      <th>MACCS_25</th>\n",
       "      <th>MACCS_50</th>\n",
       "      <th>MACCS_78</th>\n",
       "      <th>MACCS_33</th>\n",
       "      <th>MACCS_90</th>\n",
       "      <th>MACCS_64</th>\n",
       "      <th>MACCS_43</th>\n",
       "      <th>MACCS_61</th>\n",
       "      <th>MACCS_99</th>\n",
       "      <th>...</th>\n",
       "      <th>MACCS_119</th>\n",
       "      <th>MACCS_96</th>\n",
       "      <th>MACCS_17</th>\n",
       "      <th>MACCS_111</th>\n",
       "      <th>MACCS_19</th>\n",
       "      <th>MACCS_146</th>\n",
       "      <th>MACCS_8</th>\n",
       "      <th>MACCS_10</th>\n",
       "      <th>MACCS_29</th>\n",
       "      <th>MACCS_80</th>\n",
       "    </tr>\n",
       "    <tr>\n",
       "      <th></th>\n",
       "      <th></th>\n",
       "      <th></th>\n",
       "      <th></th>\n",
       "      <th></th>\n",
       "      <th></th>\n",
       "      <th></th>\n",
       "      <th></th>\n",
       "      <th></th>\n",
       "      <th></th>\n",
       "      <th></th>\n",
       "      <th></th>\n",
       "      <th></th>\n",
       "      <th></th>\n",
       "      <th></th>\n",
       "      <th></th>\n",
       "      <th></th>\n",
       "      <th></th>\n",
       "      <th></th>\n",
       "      <th></th>\n",
       "      <th></th>\n",
       "      <th></th>\n",
       "    </tr>\n",
       "  </thead>\n",
       "  <tbody>\n",
       "    <tr>\n",
       "      <th>MACCS_139</th>\n",
       "      <td>1.000000</td>\n",
       "      <td>0.052526</td>\n",
       "      <td>0.181128</td>\n",
       "      <td>0.095363</td>\n",
       "      <td>0.026255</td>\n",
       "      <td>0.506165</td>\n",
       "      <td>0.056523</td>\n",
       "      <td>0.103471</td>\n",
       "      <td>0.055519</td>\n",
       "      <td>0.254453</td>\n",
       "      <td>...</td>\n",
       "      <td>0.107568</td>\n",
       "      <td>0.360087</td>\n",
       "      <td>0.013570</td>\n",
       "      <td>0.330629</td>\n",
       "      <td>0.064162</td>\n",
       "      <td>0.630080</td>\n",
       "      <td>0.079847</td>\n",
       "      <td>0.005587</td>\n",
       "      <td>0.047983</td>\n",
       "      <td>0.211930</td>\n",
       "    </tr>\n",
       "    <tr>\n",
       "      <th>MACCS_25</th>\n",
       "      <td>0.052526</td>\n",
       "      <td>1.000000</td>\n",
       "      <td>0.002893</td>\n",
       "      <td>0.265600</td>\n",
       "      <td>0.045802</td>\n",
       "      <td>0.086746</td>\n",
       "      <td>0.035276</td>\n",
       "      <td>0.346221</td>\n",
       "      <td>0.039039</td>\n",
       "      <td>0.019608</td>\n",
       "      <td>...</td>\n",
       "      <td>0.226467</td>\n",
       "      <td>0.074824</td>\n",
       "      <td>0.005391</td>\n",
       "      <td>0.079669</td>\n",
       "      <td>0.007622</td>\n",
       "      <td>0.055014</td>\n",
       "      <td>0.000000</td>\n",
       "      <td>0.000000</td>\n",
       "      <td>0.008511</td>\n",
       "      <td>0.166782</td>\n",
       "    </tr>\n",
       "    <tr>\n",
       "      <th>MACCS_50</th>\n",
       "      <td>0.181128</td>\n",
       "      <td>0.002893</td>\n",
       "      <td>1.000000</td>\n",
       "      <td>0.076450</td>\n",
       "      <td>0.011329</td>\n",
       "      <td>0.123065</td>\n",
       "      <td>0.061244</td>\n",
       "      <td>0.022147</td>\n",
       "      <td>0.022707</td>\n",
       "      <td>0.669391</td>\n",
       "      <td>...</td>\n",
       "      <td>0.084622</td>\n",
       "      <td>0.216068</td>\n",
       "      <td>0.043984</td>\n",
       "      <td>0.067808</td>\n",
       "      <td>0.040875</td>\n",
       "      <td>0.170114</td>\n",
       "      <td>0.140391</td>\n",
       "      <td>0.000000</td>\n",
       "      <td>0.024831</td>\n",
       "      <td>0.073961</td>\n",
       "    </tr>\n",
       "    <tr>\n",
       "      <th>MACCS_78</th>\n",
       "      <td>0.095363</td>\n",
       "      <td>0.265600</td>\n",
       "      <td>0.076450</td>\n",
       "      <td>1.000000</td>\n",
       "      <td>0.045649</td>\n",
       "      <td>0.119409</td>\n",
       "      <td>0.055215</td>\n",
       "      <td>0.266312</td>\n",
       "      <td>0.044048</td>\n",
       "      <td>0.086867</td>\n",
       "      <td>...</td>\n",
       "      <td>0.818792</td>\n",
       "      <td>0.129892</td>\n",
       "      <td>0.007220</td>\n",
       "      <td>0.123439</td>\n",
       "      <td>0.073604</td>\n",
       "      <td>0.090209</td>\n",
       "      <td>0.100890</td>\n",
       "      <td>0.001908</td>\n",
       "      <td>0.023292</td>\n",
       "      <td>0.176730</td>\n",
       "    </tr>\n",
       "    <tr>\n",
       "      <th>MACCS_33</th>\n",
       "      <td>0.026255</td>\n",
       "      <td>0.045802</td>\n",
       "      <td>0.011329</td>\n",
       "      <td>0.045649</td>\n",
       "      <td>1.000000</td>\n",
       "      <td>0.038346</td>\n",
       "      <td>0.380313</td>\n",
       "      <td>0.071104</td>\n",
       "      <td>0.542579</td>\n",
       "      <td>0.032209</td>\n",
       "      <td>...</td>\n",
       "      <td>0.046020</td>\n",
       "      <td>0.058145</td>\n",
       "      <td>0.000000</td>\n",
       "      <td>0.048808</td>\n",
       "      <td>0.020305</td>\n",
       "      <td>0.061816</td>\n",
       "      <td>0.048319</td>\n",
       "      <td>0.000000</td>\n",
       "      <td>0.012165</td>\n",
       "      <td>0.078860</td>\n",
       "    </tr>\n",
       "  </tbody>\n",
       "</table>\n",
       "<p>5 rows × 163 columns</p>\n",
       "</div>"
      ],
      "text/plain": [
       "           MACCS_139  MACCS_25  MACCS_50  MACCS_78  MACCS_33  MACCS_90  \\\n",
       "                                                                         \n",
       "MACCS_139   1.000000  0.052526  0.181128  0.095363  0.026255  0.506165   \n",
       "MACCS_25    0.052526  1.000000  0.002893  0.265600  0.045802  0.086746   \n",
       "MACCS_50    0.181128  0.002893  1.000000  0.076450  0.011329  0.123065   \n",
       "MACCS_78    0.095363  0.265600  0.076450  1.000000  0.045649  0.119409   \n",
       "MACCS_33    0.026255  0.045802  0.011329  0.045649  1.000000  0.038346   \n",
       "\n",
       "           MACCS_64  MACCS_43  MACCS_61  MACCS_99    ...     MACCS_119  \\\n",
       "                                                     ...                 \n",
       "MACCS_139  0.056523  0.103471  0.055519  0.254453    ...      0.107568   \n",
       "MACCS_25   0.035276  0.346221  0.039039  0.019608    ...      0.226467   \n",
       "MACCS_50   0.061244  0.022147  0.022707  0.669391    ...      0.084622   \n",
       "MACCS_78   0.055215  0.266312  0.044048  0.086867    ...      0.818792   \n",
       "MACCS_33   0.380313  0.071104  0.542579  0.032209    ...      0.046020   \n",
       "\n",
       "           MACCS_96  MACCS_17  MACCS_111  MACCS_19  MACCS_146   MACCS_8  \\\n",
       "                                                                          \n",
       "MACCS_139  0.360087  0.013570   0.330629  0.064162   0.630080  0.079847   \n",
       "MACCS_25   0.074824  0.005391   0.079669  0.007622   0.055014  0.000000   \n",
       "MACCS_50   0.216068  0.043984   0.067808  0.040875   0.170114  0.140391   \n",
       "MACCS_78   0.129892  0.007220   0.123439  0.073604   0.090209  0.100890   \n",
       "MACCS_33   0.058145  0.000000   0.048808  0.020305   0.061816  0.048319   \n",
       "\n",
       "           MACCS_10  MACCS_29  MACCS_80  \n",
       "                                         \n",
       "MACCS_139  0.005587  0.047983  0.211930  \n",
       "MACCS_25   0.000000  0.008511  0.166782  \n",
       "MACCS_50   0.000000  0.024831  0.073961  \n",
       "MACCS_78   0.001908  0.023292  0.176730  \n",
       "MACCS_33   0.000000  0.012165  0.078860  \n",
       "\n",
       "[5 rows x 163 columns]"
      ]
     },
     "execution_count": 364,
     "metadata": {},
     "output_type": "execute_result"
    }
   ],
   "source": [
    "fingerprint_similarity_matix.head()"
   ]
  },
  {
   "cell_type": "markdown",
   "metadata": {},
   "source": [
    "# Save Fingerprint Similarity Matrix"
   ]
  },
  {
   "cell_type": "code",
   "execution_count": 365,
   "metadata": {
    "collapsed": true
   },
   "outputs": [],
   "source": [
    "filename = path+'approved_maccs_fingerprint_similarity_matix_%s.tsv.zip'% str(datetime.date.today())[0:7].replace('-', '_')\n",
    "fingerprint_similarity_matix.to_csv(filename, sep='\\t', compression='gzip')"
   ]
  },
  {
   "cell_type": "markdown",
   "metadata": {},
   "source": [
    "# HeatMap (clustergrammer) of Similarity Matrix"
   ]
  },
  {
   "cell_type": "code",
   "execution_count": 373,
   "metadata": {},
   "outputs": [],
   "source": [
    "# net.load_df(fingerprint_similarity_matix.iloc[:,:].copy())\n",
    "# # net.filter_N_top('row', rank_type='sum', N_top=300)\n",
    "# net.cluster()\n",
    "# net.widget()"
   ]
  },
  {
   "cell_type": "markdown",
   "metadata": {},
   "source": [
    "# Create Drug Similarity Matrix"
   ]
  },
  {
   "cell_type": "code",
   "execution_count": 367,
   "metadata": {
    "collapsed": true
   },
   "outputs": [],
   "source": [
    "drug_similarity_matix = uf.createSimilarityMatrix(matrix.T, 'jaccard')"
   ]
  },
  {
   "cell_type": "code",
   "execution_count": 368,
   "metadata": {},
   "outputs": [
    {
     "data": {
      "text/html": [
       "<div>\n",
       "<style scoped>\n",
       "    .dataframe tbody tr th:only-of-type {\n",
       "        vertical-align: middle;\n",
       "    }\n",
       "\n",
       "    .dataframe tbody tr th {\n",
       "        vertical-align: top;\n",
       "    }\n",
       "\n",
       "    .dataframe thead th {\n",
       "        text-align: right;\n",
       "    }\n",
       "</style>\n",
       "<table border=\"1\" class=\"dataframe\">\n",
       "  <thead>\n",
       "    <tr style=\"text-align: right;\">\n",
       "      <th></th>\n",
       "      <th>1</th>\n",
       "      <th>5488645</th>\n",
       "      <th>5464070</th>\n",
       "      <th>16220172</th>\n",
       "      <th>40973</th>\n",
       "      <th>15581198</th>\n",
       "      <th>9871375</th>\n",
       "      <th>40976</th>\n",
       "      <th>57363</th>\n",
       "      <th>213013</th>\n",
       "      <th>...</th>\n",
       "      <th>9887712</th>\n",
       "      <th>16351</th>\n",
       "      <th>44629987</th>\n",
       "      <th>101826531</th>\n",
       "      <th>24550</th>\n",
       "      <th>442343</th>\n",
       "      <th>16362</th>\n",
       "      <th>16363</th>\n",
       "      <th>53239799</th>\n",
       "      <th>114682</th>\n",
       "    </tr>\n",
       "    <tr>\n",
       "      <th></th>\n",
       "      <th></th>\n",
       "      <th></th>\n",
       "      <th></th>\n",
       "      <th></th>\n",
       "      <th></th>\n",
       "      <th></th>\n",
       "      <th></th>\n",
       "      <th></th>\n",
       "      <th></th>\n",
       "      <th></th>\n",
       "      <th></th>\n",
       "      <th></th>\n",
       "      <th></th>\n",
       "      <th></th>\n",
       "      <th></th>\n",
       "      <th></th>\n",
       "      <th></th>\n",
       "      <th></th>\n",
       "      <th></th>\n",
       "      <th></th>\n",
       "      <th></th>\n",
       "    </tr>\n",
       "  </thead>\n",
       "  <tbody>\n",
       "    <tr>\n",
       "      <th>1</th>\n",
       "      <td>1.000000</td>\n",
       "      <td>0.272727</td>\n",
       "      <td>0.163636</td>\n",
       "      <td>0.241935</td>\n",
       "      <td>0.137931</td>\n",
       "      <td>0.246377</td>\n",
       "      <td>0.301587</td>\n",
       "      <td>0.172414</td>\n",
       "      <td>0.209677</td>\n",
       "      <td>0.068966</td>\n",
       "      <td>...</td>\n",
       "      <td>0.196721</td>\n",
       "      <td>0.154930</td>\n",
       "      <td>0.220779</td>\n",
       "      <td>0.265823</td>\n",
       "      <td>0.000000</td>\n",
       "      <td>0.255319</td>\n",
       "      <td>0.146667</td>\n",
       "      <td>0.210526</td>\n",
       "      <td>0.300000</td>\n",
       "      <td>0.229730</td>\n",
       "    </tr>\n",
       "    <tr>\n",
       "      <th>5488645</th>\n",
       "      <td>0.272727</td>\n",
       "      <td>1.000000</td>\n",
       "      <td>0.287356</td>\n",
       "      <td>0.488095</td>\n",
       "      <td>0.225806</td>\n",
       "      <td>0.558140</td>\n",
       "      <td>0.368421</td>\n",
       "      <td>0.247312</td>\n",
       "      <td>0.336957</td>\n",
       "      <td>0.279070</td>\n",
       "      <td>...</td>\n",
       "      <td>0.344444</td>\n",
       "      <td>0.300000</td>\n",
       "      <td>0.560440</td>\n",
       "      <td>0.541667</td>\n",
       "      <td>0.023256</td>\n",
       "      <td>0.163043</td>\n",
       "      <td>0.440860</td>\n",
       "      <td>0.489362</td>\n",
       "      <td>0.463158</td>\n",
       "      <td>0.561798</td>\n",
       "    </tr>\n",
       "    <tr>\n",
       "      <th>5464070</th>\n",
       "      <td>0.163636</td>\n",
       "      <td>0.287356</td>\n",
       "      <td>1.000000</td>\n",
       "      <td>0.283333</td>\n",
       "      <td>0.100000</td>\n",
       "      <td>0.283582</td>\n",
       "      <td>0.108108</td>\n",
       "      <td>0.096774</td>\n",
       "      <td>0.190476</td>\n",
       "      <td>0.319149</td>\n",
       "      <td>...</td>\n",
       "      <td>0.158730</td>\n",
       "      <td>0.322581</td>\n",
       "      <td>0.270270</td>\n",
       "      <td>0.204819</td>\n",
       "      <td>0.052632</td>\n",
       "      <td>0.092593</td>\n",
       "      <td>0.283582</td>\n",
       "      <td>0.277778</td>\n",
       "      <td>0.281690</td>\n",
       "      <td>0.281690</td>\n",
       "    </tr>\n",
       "    <tr>\n",
       "      <th>16220172</th>\n",
       "      <td>0.241935</td>\n",
       "      <td>0.488095</td>\n",
       "      <td>0.283333</td>\n",
       "      <td>1.000000</td>\n",
       "      <td>0.234375</td>\n",
       "      <td>0.455882</td>\n",
       "      <td>0.319444</td>\n",
       "      <td>0.265625</td>\n",
       "      <td>0.517241</td>\n",
       "      <td>0.500000</td>\n",
       "      <td>...</td>\n",
       "      <td>0.343750</td>\n",
       "      <td>0.233766</td>\n",
       "      <td>0.465753</td>\n",
       "      <td>0.506667</td>\n",
       "      <td>0.000000</td>\n",
       "      <td>0.200000</td>\n",
       "      <td>0.375000</td>\n",
       "      <td>0.438356</td>\n",
       "      <td>0.507246</td>\n",
       "      <td>0.485714</td>\n",
       "    </tr>\n",
       "    <tr>\n",
       "      <th>40973</th>\n",
       "      <td>0.137931</td>\n",
       "      <td>0.225806</td>\n",
       "      <td>0.100000</td>\n",
       "      <td>0.234375</td>\n",
       "      <td>1.000000</td>\n",
       "      <td>0.173333</td>\n",
       "      <td>0.555556</td>\n",
       "      <td>0.944444</td>\n",
       "      <td>0.425926</td>\n",
       "      <td>0.084746</td>\n",
       "      <td>...</td>\n",
       "      <td>0.271186</td>\n",
       "      <td>0.150685</td>\n",
       "      <td>0.230769</td>\n",
       "      <td>0.307692</td>\n",
       "      <td>0.000000</td>\n",
       "      <td>0.605263</td>\n",
       "      <td>0.222222</td>\n",
       "      <td>0.270270</td>\n",
       "      <td>0.309859</td>\n",
       "      <td>0.177215</td>\n",
       "    </tr>\n",
       "  </tbody>\n",
       "</table>\n",
       "<p>5 rows × 4895 columns</p>\n",
       "</div>"
      ],
      "text/plain": [
       "          1          5488645    5464070    16220172   40973      15581198   \\\n",
       "                                                                             \n",
       "1          1.000000   0.272727   0.163636   0.241935   0.137931   0.246377   \n",
       "5488645    0.272727   1.000000   0.287356   0.488095   0.225806   0.558140   \n",
       "5464070    0.163636   0.287356   1.000000   0.283333   0.100000   0.283582   \n",
       "16220172   0.241935   0.488095   0.283333   1.000000   0.234375   0.455882   \n",
       "40973      0.137931   0.225806   0.100000   0.234375   1.000000   0.173333   \n",
       "\n",
       "          9871375    40976      57363      213013       ...      9887712    \\\n",
       "                                                        ...                  \n",
       "1          0.301587   0.172414   0.209677   0.068966    ...       0.196721   \n",
       "5488645    0.368421   0.247312   0.336957   0.279070    ...       0.344444   \n",
       "5464070    0.108108   0.096774   0.190476   0.319149    ...       0.158730   \n",
       "16220172   0.319444   0.265625   0.517241   0.500000    ...       0.343750   \n",
       "40973      0.555556   0.944444   0.425926   0.084746    ...       0.271186   \n",
       "\n",
       "          16351      44629987   101826531  24550      442343     16362      \\\n",
       "                                                                             \n",
       "1          0.154930   0.220779   0.265823   0.000000   0.255319   0.146667   \n",
       "5488645    0.300000   0.560440   0.541667   0.023256   0.163043   0.440860   \n",
       "5464070    0.322581   0.270270   0.204819   0.052632   0.092593   0.283582   \n",
       "16220172   0.233766   0.465753   0.506667   0.000000   0.200000   0.375000   \n",
       "40973      0.150685   0.230769   0.307692   0.000000   0.605263   0.222222   \n",
       "\n",
       "          16363      53239799   114682     \n",
       "                                           \n",
       "1          0.210526   0.300000   0.229730  \n",
       "5488645    0.489362   0.463158   0.561798  \n",
       "5464070    0.277778   0.281690   0.281690  \n",
       "16220172   0.438356   0.507246   0.485714  \n",
       "40973      0.270270   0.309859   0.177215  \n",
       "\n",
       "[5 rows x 4895 columns]"
      ]
     },
     "execution_count": 368,
     "metadata": {},
     "output_type": "execute_result"
    }
   ],
   "source": [
    "drug_similarity_matix.head()"
   ]
  },
  {
   "cell_type": "markdown",
   "metadata": {},
   "source": [
    "# Save Fingerprint Similarity Matrix"
   ]
  },
  {
   "cell_type": "code",
   "execution_count": 369,
   "metadata": {
    "collapsed": true
   },
   "outputs": [],
   "source": [
    "filename = path+'approved_maccs_drug_similarity_matix_%s.tsv.zip'% str(datetime.date.today())[0:7].replace('-', '_')\n",
    "drug_similarity_matix.to_csv(filename, sep='\\t', compression='gzip')"
   ]
  },
  {
   "cell_type": "code",
   "execution_count": 372,
   "metadata": {},
   "outputs": [],
   "source": [
    "# net.load_df(drug_similarity_matix.iloc[0:400,0:400].copy())\n",
    "# # net.filter_N_top('row', rank_type='sum', N_top=300)\n",
    "# net.cluster()\n",
    "# net.widget()"
   ]
  },
  {
   "cell_type": "markdown",
   "metadata": {},
   "source": [
    "# Create Fingerprint-Drug Edge List"
   ]
  },
  {
   "cell_type": "code",
   "execution_count": 374,
   "metadata": {
    "collapsed": true
   },
   "outputs": [],
   "source": [
    "name = 'approved_maccs_figerprint_drug_edge_list'"
   ]
  },
  {
   "cell_type": "code",
   "execution_count": 375,
   "metadata": {},
   "outputs": [
    {
     "name": "stdout",
     "output_type": "stream",
     "text": [
      "Progeres: 100%  4895 Out of 4895   \n",
      "\n",
      " The number of statisticaly relevent gene-attribute associations is: 222121\n"
     ]
    }
   ],
   "source": [
    "uf.createGeneAttributeEdgeList(matrix, drug_list, fingerprint_list, path, name)"
   ]
  }
 ],
 "metadata": {
  "kernelspec": {
   "display_name": "Python [default]",
   "language": "python",
   "name": "python3"
  },
  "language_info": {
   "codemirror_mode": {
    "name": "ipython",
    "version": 3
   },
   "file_extension": ".py",
   "mimetype": "text/x-python",
   "name": "python",
   "nbconvert_exporter": "python",
   "pygments_lexer": "ipython3",
   "version": "3.5.5"
  }
 },
 "nbformat": 4,
 "nbformat_minor": 2
}
